{
 "cells": [
  {
   "cell_type": "code",
   "execution_count": null,
   "metadata": {
    "id": "ijGzTHJJUCPY"
   },
   "outputs": [],
   "source": [
    "# Copyright 2023 Google LLC\n",
    "#\n",
    "# Licensed under the Apache License, Version 2.0 (the \"License\");\n",
    "# you may not use this file except in compliance with the License.\n",
    "# You may obtain a copy of the License at\n",
    "#\n",
    "#     https://www.apache.org/licenses/LICENSE-2.0\n",
    "#\n",
    "# Unless required by applicable law or agreed to in writing, software\n",
    "# distributed under the License is distributed on an \"AS IS\" BASIS,\n",
    "# WITHOUT WARRANTIES OR CONDITIONS OF ANY KIND, either express or implied.\n",
    "# See the License for the specific language governing permissions and\n",
    "# limitations under the License."
   ]
  },
  {
   "cell_type": "markdown",
   "metadata": {
    "id": "VEqbX8OhE8y9"
   },
   "source": [
    "# Getting Started with the Vertex AI PaLM API & Python SDK\n",
    "\n",
    "> **NOTE:** This notebook uses the PaLM generative model, which will reach its [discontinuation date in October 2024](https://cloud.google.com/vertex-ai/generative-ai/docs/model-reference/text#model_versions). Please refer to [this updated notebook](https://github.com/GoogleCloudPlatform/generative-ai/blob/main/gemini/getting-started/intro_gemini_python.ipynb) for a version which uses the latest Gemini model.\n",
    "\n",
    "<table align=\"left\">\n",
    "  <td style=\"text-align: center\">\n",
    "    <a href=\"https://colab.research.google.com/github/GoogleCloudPlatform/generative-ai/blob/main/language/getting-started/intro_palm_api.ipynb\">\n",
    "      <img src=\"https://cloud.google.com/ml-engine/images/colab-logo-32px.png\" alt=\"Google Colaboratory logo\"><br> Run in Colab\n",
    "    </a>\n",
    "  </td>\n",
    "  <td style=\"text-align: center\">\n",
    "    <a href=\"https://github.com/GoogleCloudPlatform/generative-ai/blob/main/language/getting-started/intro_palm_api.ipynb\">\n",
    "      <img src=\"https://cloud.google.com/ml-engine/images/github-logo-32px.png\" alt=\"GitHub logo\"><br> View on GitHub\n",
    "    </a>\n",
    "  </td>\n",
    "  <td style=\"text-align: center\">\n",
    "    <a href=\"https://console.cloud.google.com/vertex-ai/workbench/deploy-notebook?download_url=https://raw.githubusercontent.com/GoogleCloudPlatform/generative-ai/main/language/getting-started/intro_palm_api.ipynb\">\n",
    "      <img src=\"https://lh3.googleusercontent.com/UiNooY4LUgW_oTvpsNhPpQzsstV5W8F7rYgxgGBD85cWJoLmrOzhVs_ksK_vgx40SHs7jCqkTkCk=e14-rj-sc0xffffff-h130-w32\" alt=\"Vertex AI logo\"><br> Open in Vertex AI Workbench\n",
    "    </a>\n",
    "  </td>\n",
    "</table>\n"
   ]
  },
  {
   "cell_type": "markdown",
   "metadata": {},
   "source": [
    "| | |\n",
    "|-|-|\n",
    "|Author(s) | [Polong Lin](https://github.com/polong-lin) |"
   ]
  },
  {
   "cell_type": "markdown",
   "metadata": {
    "id": "VK1Q5ZYdVL4Y"
   },
   "source": [
    "## Overview\n",
    "\n",
    "### What are LLMs?\n",
    "Large language models (LLMs) are deep learning models trained on massive datasets of text. LLMs can translate language, summarize text, generate creative writing, generate code, power chatbots and virtual assistants, and complement search engines and recommendation systems.\n",
    "\n",
    "### PaLM\n",
    "Following its predecessor, [PaLM](https://ai.googleblog.com/2022/04/pathways-language-model-palm-scaling-to.html), [PaLM 2](https://ai.google/discover/palm2) is Google's next generation large language model that builds on Google's legacy of breakthrough research in machine learning and responsible AI. PaLM 2 excels at tasks like advanced reasoning, translation, and code generation because of how it was built.\n",
    "\n",
    "PaLM 2 [excels](https://ai.google/static/documents/palm2techreport.pdf) at advanced reasoning tasks, including code and math, classification and question answering, translation and multilingual proficiency, and natural language generation better than our previous state-of-the-art LLMs, including PaLM. It can accomplish these tasks because of the way it was built – bringing together compute-optimal scaling, an improved dataset mixture, and model architecture improvements.\n",
    "\n",
    "PaLM 2 is grounded in Google's approach to building and deploying AI responsibly. It was evaluated rigorously for its potential harms and biases, capabilities and downstream uses in research and in-product applications. It's being used in other state-of-the-art models, like Med-PaLM 2 and Sec-PaLM, and is powering generative AI features and tools at Google, like Bard and the PaLM API.\n",
    "\n",
    "PaLM is pre-trained on a wide range of text data using an unsupervised learning approach, without any specific task. During this pre-training process, PaLM learns to predict the next word in a sentence, given the preceding words. This enables the model to generate coherent, fluent text resembling human writing.\n",
    "This large size enables it to learn complex patterns and relationships in language and generate high-quality text for various applications. This is why models like PaLM are referred to as \"foundational models.\"\n",
    "\n",
    "Creating an LLM requires massive amounts of data, significant compute resources, and specialized skills. Because LLMs require a big investment to create, they target broad rather than specific use cases. On Vertex AI, you can customize a foundation model for more specific tasks or knowledge domains by using prompt design and model tuning.\n",
    "\n",
    "### Vertex AI PaLM API\n",
    "The Vertex AI PaLM API, [released on May 10, 2023](https://cloud.google.com/vertex-ai/docs/generative-ai/release-notes#may_10_2023), is powered by [PaLM 2](https://ai.google/discover/palm2).\n",
    "\n",
    "### Using Vertex AI PaLM API\n",
    "\n",
    "You can interact with the Vertex AI PaLM API using the following methods:\n",
    "\n",
    "* Use the [Generative AI Studio](https://cloud.google.com/generative-ai-studio) for quick testing and command generation.\n",
    "* Use cURL commands in Cloud Shell.\n",
    "* Use the Python SDK in a Jupyter notebook\n",
    "\n",
    "This notebook focuses on using the Python SDK to call the Vertex AI PaLM API. For more information on using Generative AI Studio without writing code, you can explore [Getting Started with the UI instructions](https://github.com/GoogleCloudPlatform/generative-ai/blob/main/language/intro_vertex_ai_studio.md)\n",
    "\n",
    "\n",
    "For more information, check out the [documentation on generative AI support for Vertex AI](https://cloud.google.com/vertex-ai/docs/generative-ai/learn/overview)."
   ]
  },
  {
   "cell_type": "markdown",
   "metadata": {
    "id": "RQT500QqVPIb"
   },
   "source": [
    "### Objectives\n",
    "\n",
    "In this tutorial, you will learn how to use PaLM API with the Python SDK and explore its various parameters.\n",
    "\n",
    "By the end of the notebook, you should be able to understand various nuances of generative model parameters like `temperature`, `top_k`, `top_p`, and how each parameter affects the results.\n",
    "\n",
    "The steps performed include:\n",
    "\n",
    "- Installing the Python SDK\n",
    "- Using Vertex AI PaLM API\n",
    "  - Text generation model with `text-bison`\n",
    "    - Understanding model parameters (`temperature`, `max_output_token`,  `top_k`, `top_p`)\n",
    "  - Chat model with `chat-bison`\n",
    "  - Embeddings model with `textembedding-gecko`\n",
    "  "
   ]
  },
  {
   "cell_type": "markdown",
   "metadata": {
    "id": "1y6_3dTwV2fI"
   },
   "source": [
    "### Costs\n",
    "This tutorial uses billable components of Google Cloud:\n",
    "\n",
    "* Vertex AI Generative AI Studio\n",
    "\n",
    "Learn about [Vertex AI pricing](https://cloud.google.com/vertex-ai/pricing),\n",
    "and use the [Pricing Calculator](https://cloud.google.com/products/calculator/)\n",
    "to generate a cost estimate based on your projected usage."
   ]
  },
  {
   "cell_type": "markdown",
   "metadata": {
    "id": "6ae098456471"
   },
   "source": [
    "### Data governance and security\n",
    "For more information, see the documentation on [Data Governance and Generative AI](https://cloud.google.com/vertex-ai/docs/generative-ai/data-governance) on Google Cloud."
   ]
  },
  {
   "cell_type": "markdown",
   "metadata": {
    "id": "fc389a25bf64"
   },
   "source": [
    "### Responsible AI\n",
    "Large language models (LLMs) can translate language, summarize text, generate creative writing, generate code, power chatbots and virtual assistants, and complement search engines and recommendation systems. At the same time, as an early-stage technology, its evolving capabilities and uses create potential for misapplication, misuse, and unintended or unforeseen consequences. Large language models can generate output that you don't expect, including text that's offensive, insensitive, or factually incorrect.\n",
    "\n",
    "What's more, the incredible versatility of LLMs is also what makes it difficult to predict exactly what kinds of unintended or unforeseen outputs they might produce. Given these risks and complexities, the PaLM API is designed with [Google's AI Principles](https://ai.google/principles/) in mind. However, it is important for developers to understand and test their models to deploy safely and responsibly. To aid developers, the Generative AI Studio has built-in content filtering, and the PaLM API has safety attribute scoring to help customers test Google's safety filters and define confidence thresholds that are right for their use case and business. Please refer to the [Safety filters and attributes](https://cloud.google.com/vertex-ai/docs/generative-ai/learn/responsible-ai#safety_filters_and_attributes) section to learn more.\n",
    "\n",
    "When the PaLM API is integrated into a customer's unique use case and context, additional responsible AI considerations and [PaLM limitations](https://cloud.google.com/vertex-ai/docs/generative-ai/learn/responsible-ai#palm_limitations) may need to be considered. We encourage customers to leverage fairness, interpretability, privacy and security [recommended practices](https://ai.google/responsibilities/responsible-ai-practices/)."
   ]
  },
  {
   "cell_type": "markdown",
   "metadata": {
    "id": "QDU0XJ1xRDlL"
   },
   "source": [
    "## Getting Started"
   ]
  },
  {
   "cell_type": "markdown",
   "metadata": {
    "id": "N5afkyDMSBW5",
    "tags": []
   },
   "source": [
    "### Install Vertex AI SDK"
   ]
  },
  {
   "cell_type": "code",
   "execution_count": 51,
   "metadata": {
    "id": "kc4WxYmLSBW5",
    "tags": []
   },
   "outputs": [
    {
     "name": "stdout",
     "output_type": "stream",
     "text": [
      "Requirement already satisfied: google-cloud-aiplatform==1.36.2 in /home/jupyter/.local/lib/python3.10/site-packages (1.36.2)\n",
      "Requirement already satisfied: google-api-core!=2.0.*,!=2.1.*,!=2.2.*,!=2.3.*,!=2.4.*,!=2.5.*,!=2.6.*,!=2.7.*,<3.0.0dev,>=1.32.0 in /home/jupyter/.local/lib/python3.10/site-packages (from google-api-core[grpc]!=2.0.*,!=2.1.*,!=2.2.*,!=2.3.*,!=2.4.*,!=2.5.*,!=2.6.*,!=2.7.*,<3.0.0dev,>=1.32.0->google-cloud-aiplatform==1.36.2) (2.19.2)\n",
      "Requirement already satisfied: proto-plus<2.0.0dev,>=1.22.0 in /opt/conda/lib/python3.10/site-packages (from google-cloud-aiplatform==1.36.2) (1.24.0)\n",
      "Requirement already satisfied: protobuf!=3.20.0,!=3.20.1,!=4.21.0,!=4.21.1,!=4.21.2,!=4.21.3,!=4.21.4,!=4.21.5,<5.0.0dev,>=3.19.5 in /home/jupyter/.local/lib/python3.10/site-packages (from google-cloud-aiplatform==1.36.2) (4.25.4)\n",
      "Requirement already satisfied: packaging>=14.3 in /opt/conda/lib/python3.10/site-packages (from google-cloud-aiplatform==1.36.2) (24.1)\n",
      "Requirement already satisfied: google-cloud-storage<3.0.0dev,>=1.32.0 in /opt/conda/lib/python3.10/site-packages (from google-cloud-aiplatform==1.36.2) (2.14.0)\n",
      "Requirement already satisfied: google-cloud-bigquery<4.0.0dev,>=1.15.0 in /opt/conda/lib/python3.10/site-packages (from google-cloud-aiplatform==1.36.2) (3.25.0)\n",
      "Requirement already satisfied: google-cloud-resource-manager<3.0.0dev,>=1.3.3 in /opt/conda/lib/python3.10/site-packages (from google-cloud-aiplatform==1.36.2) (1.12.5)\n",
      "Requirement already satisfied: shapely<3.0.0dev in /opt/conda/lib/python3.10/site-packages (from google-cloud-aiplatform==1.36.2) (2.0.5)\n",
      "Requirement already satisfied: googleapis-common-protos<2.0.dev0,>=1.56.2 in /opt/conda/lib/python3.10/site-packages (from google-api-core!=2.0.*,!=2.1.*,!=2.2.*,!=2.3.*,!=2.4.*,!=2.5.*,!=2.6.*,!=2.7.*,<3.0.0dev,>=1.32.0->google-api-core[grpc]!=2.0.*,!=2.1.*,!=2.2.*,!=2.3.*,!=2.4.*,!=2.5.*,!=2.6.*,!=2.7.*,<3.0.0dev,>=1.32.0->google-cloud-aiplatform==1.36.2) (1.63.2)\n",
      "Requirement already satisfied: google-auth<3.0.dev0,>=2.14.1 in /opt/conda/lib/python3.10/site-packages (from google-api-core!=2.0.*,!=2.1.*,!=2.2.*,!=2.3.*,!=2.4.*,!=2.5.*,!=2.6.*,!=2.7.*,<3.0.0dev,>=1.32.0->google-api-core[grpc]!=2.0.*,!=2.1.*,!=2.2.*,!=2.3.*,!=2.4.*,!=2.5.*,!=2.6.*,!=2.7.*,<3.0.0dev,>=1.32.0->google-cloud-aiplatform==1.36.2) (2.32.0)\n",
      "Requirement already satisfied: requests<3.0.0.dev0,>=2.18.0 in /opt/conda/lib/python3.10/site-packages (from google-api-core!=2.0.*,!=2.1.*,!=2.2.*,!=2.3.*,!=2.4.*,!=2.5.*,!=2.6.*,!=2.7.*,<3.0.0dev,>=1.32.0->google-api-core[grpc]!=2.0.*,!=2.1.*,!=2.2.*,!=2.3.*,!=2.4.*,!=2.5.*,!=2.6.*,!=2.7.*,<3.0.0dev,>=1.32.0->google-cloud-aiplatform==1.36.2) (2.32.3)\n",
      "Requirement already satisfied: grpcio<2.0dev,>=1.33.2 in /opt/conda/lib/python3.10/site-packages (from google-api-core[grpc]!=2.0.*,!=2.1.*,!=2.2.*,!=2.3.*,!=2.4.*,!=2.5.*,!=2.6.*,!=2.7.*,<3.0.0dev,>=1.32.0->google-cloud-aiplatform==1.36.2) (1.48.0)\n",
      "Requirement already satisfied: grpcio-status<2.0.dev0,>=1.33.2 in /opt/conda/lib/python3.10/site-packages (from google-api-core[grpc]!=2.0.*,!=2.1.*,!=2.2.*,!=2.3.*,!=2.4.*,!=2.5.*,!=2.6.*,!=2.7.*,<3.0.0dev,>=1.32.0->google-cloud-aiplatform==1.36.2) (1.48.0)\n",
      "Requirement already satisfied: google-cloud-core<3.0.0dev,>=1.6.0 in /opt/conda/lib/python3.10/site-packages (from google-cloud-bigquery<4.0.0dev,>=1.15.0->google-cloud-aiplatform==1.36.2) (2.4.1)\n",
      "Requirement already satisfied: google-resumable-media<3.0dev,>=0.6.0 in /opt/conda/lib/python3.10/site-packages (from google-cloud-bigquery<4.0.0dev,>=1.15.0->google-cloud-aiplatform==1.36.2) (2.7.1)\n",
      "Requirement already satisfied: python-dateutil<3.0dev,>=2.7.2 in /opt/conda/lib/python3.10/site-packages (from google-cloud-bigquery<4.0.0dev,>=1.15.0->google-cloud-aiplatform==1.36.2) (2.9.0)\n",
      "Requirement already satisfied: grpc-google-iam-v1<1.0.0dev,>=0.12.4 in /opt/conda/lib/python3.10/site-packages (from google-cloud-resource-manager<3.0.0dev,>=1.3.3->google-cloud-aiplatform==1.36.2) (0.12.7)\n",
      "Requirement already satisfied: google-crc32c<2.0dev,>=1.0 in /opt/conda/lib/python3.10/site-packages (from google-cloud-storage<3.0.0dev,>=1.32.0->google-cloud-aiplatform==1.36.2) (1.5.0)\n",
      "Requirement already satisfied: numpy<3,>=1.14 in /opt/conda/lib/python3.10/site-packages (from shapely<3.0.0dev->google-cloud-aiplatform==1.36.2) (1.24.4)\n",
      "Requirement already satisfied: cachetools<6.0,>=2.0.0 in /opt/conda/lib/python3.10/site-packages (from google-auth<3.0.dev0,>=2.14.1->google-api-core!=2.0.*,!=2.1.*,!=2.2.*,!=2.3.*,!=2.4.*,!=2.5.*,!=2.6.*,!=2.7.*,<3.0.0dev,>=1.32.0->google-api-core[grpc]!=2.0.*,!=2.1.*,!=2.2.*,!=2.3.*,!=2.4.*,!=2.5.*,!=2.6.*,!=2.7.*,<3.0.0dev,>=1.32.0->google-cloud-aiplatform==1.36.2) (4.2.4)\n",
      "Requirement already satisfied: pyasn1-modules>=0.2.1 in /opt/conda/lib/python3.10/site-packages (from google-auth<3.0.dev0,>=2.14.1->google-api-core!=2.0.*,!=2.1.*,!=2.2.*,!=2.3.*,!=2.4.*,!=2.5.*,!=2.6.*,!=2.7.*,<3.0.0dev,>=1.32.0->google-api-core[grpc]!=2.0.*,!=2.1.*,!=2.2.*,!=2.3.*,!=2.4.*,!=2.5.*,!=2.6.*,!=2.7.*,<3.0.0dev,>=1.32.0->google-cloud-aiplatform==1.36.2) (0.4.0)\n",
      "Requirement already satisfied: rsa<5,>=3.1.4 in /opt/conda/lib/python3.10/site-packages (from google-auth<3.0.dev0,>=2.14.1->google-api-core!=2.0.*,!=2.1.*,!=2.2.*,!=2.3.*,!=2.4.*,!=2.5.*,!=2.6.*,!=2.7.*,<3.0.0dev,>=1.32.0->google-api-core[grpc]!=2.0.*,!=2.1.*,!=2.2.*,!=2.3.*,!=2.4.*,!=2.5.*,!=2.6.*,!=2.7.*,<3.0.0dev,>=1.32.0->google-cloud-aiplatform==1.36.2) (4.9)\n",
      "Requirement already satisfied: six>=1.5.2 in /opt/conda/lib/python3.10/site-packages (from grpcio<2.0dev,>=1.33.2->google-api-core[grpc]!=2.0.*,!=2.1.*,!=2.2.*,!=2.3.*,!=2.4.*,!=2.5.*,!=2.6.*,!=2.7.*,<3.0.0dev,>=1.32.0->google-cloud-aiplatform==1.36.2) (1.16.0)\n",
      "Requirement already satisfied: charset-normalizer<4,>=2 in /opt/conda/lib/python3.10/site-packages (from requests<3.0.0.dev0,>=2.18.0->google-api-core!=2.0.*,!=2.1.*,!=2.2.*,!=2.3.*,!=2.4.*,!=2.5.*,!=2.6.*,!=2.7.*,<3.0.0dev,>=1.32.0->google-api-core[grpc]!=2.0.*,!=2.1.*,!=2.2.*,!=2.3.*,!=2.4.*,!=2.5.*,!=2.6.*,!=2.7.*,<3.0.0dev,>=1.32.0->google-cloud-aiplatform==1.36.2) (3.3.2)\n",
      "Requirement already satisfied: idna<4,>=2.5 in /opt/conda/lib/python3.10/site-packages (from requests<3.0.0.dev0,>=2.18.0->google-api-core!=2.0.*,!=2.1.*,!=2.2.*,!=2.3.*,!=2.4.*,!=2.5.*,!=2.6.*,!=2.7.*,<3.0.0dev,>=1.32.0->google-api-core[grpc]!=2.0.*,!=2.1.*,!=2.2.*,!=2.3.*,!=2.4.*,!=2.5.*,!=2.6.*,!=2.7.*,<3.0.0dev,>=1.32.0->google-cloud-aiplatform==1.36.2) (3.7)\n",
      "Requirement already satisfied: urllib3<3,>=1.21.1 in /opt/conda/lib/python3.10/site-packages (from requests<3.0.0.dev0,>=2.18.0->google-api-core!=2.0.*,!=2.1.*,!=2.2.*,!=2.3.*,!=2.4.*,!=2.5.*,!=2.6.*,!=2.7.*,<3.0.0dev,>=1.32.0->google-api-core[grpc]!=2.0.*,!=2.1.*,!=2.2.*,!=2.3.*,!=2.4.*,!=2.5.*,!=2.6.*,!=2.7.*,<3.0.0dev,>=1.32.0->google-cloud-aiplatform==1.36.2) (1.26.19)\n",
      "Requirement already satisfied: certifi>=2017.4.17 in /opt/conda/lib/python3.10/site-packages (from requests<3.0.0.dev0,>=2.18.0->google-api-core!=2.0.*,!=2.1.*,!=2.2.*,!=2.3.*,!=2.4.*,!=2.5.*,!=2.6.*,!=2.7.*,<3.0.0dev,>=1.32.0->google-api-core[grpc]!=2.0.*,!=2.1.*,!=2.2.*,!=2.3.*,!=2.4.*,!=2.5.*,!=2.6.*,!=2.7.*,<3.0.0dev,>=1.32.0->google-cloud-aiplatform==1.36.2) (2024.7.4)\n",
      "Requirement already satisfied: pyasn1<0.7.0,>=0.4.6 in /opt/conda/lib/python3.10/site-packages (from pyasn1-modules>=0.2.1->google-auth<3.0.dev0,>=2.14.1->google-api-core!=2.0.*,!=2.1.*,!=2.2.*,!=2.3.*,!=2.4.*,!=2.5.*,!=2.6.*,!=2.7.*,<3.0.0dev,>=1.32.0->google-api-core[grpc]!=2.0.*,!=2.1.*,!=2.2.*,!=2.3.*,!=2.4.*,!=2.5.*,!=2.6.*,!=2.7.*,<3.0.0dev,>=1.32.0->google-cloud-aiplatform==1.36.2) (0.6.0)\n"
     ]
    }
   ],
   "source": [
    "!pip install google-cloud-aiplatform==1.36.2 --upgrade --user"
   ]
  },
  {
   "cell_type": "markdown",
   "metadata": {
    "id": "j7UyNVSiyQ96"
   },
   "source": [
    "**Colab only:** Run the following cell to restart the kernel or use the button to restart the kernel. For Vertex AI Workbench you can restart the terminal using the button on top."
   ]
  },
  {
   "cell_type": "code",
   "execution_count": 2,
   "metadata": {
    "id": "YmY9HVVGSBW5",
    "tags": []
   },
   "outputs": [
    {
     "data": {
      "text/plain": [
       "{'status': 'ok', 'restart': True}"
      ]
     },
     "execution_count": 2,
     "metadata": {},
     "output_type": "execute_result"
    }
   ],
   "source": [
    "# Automatically restart kernel after installs so that your environment can access the new packages\n",
    "import IPython\n",
    "\n",
    "app = IPython.Application.instance()\n",
    "app.kernel.do_shutdown(True)"
   ]
  },
  {
   "cell_type": "markdown",
   "metadata": {
    "id": "6Fom0ZkMSBW6"
   },
   "source": [
    "### Authenticating your notebook environment\n",
    "\n",
    "- If you are using **Colab** to run this notebook, run the cell below and continue.\n",
    "- If you are using **Vertex AI Workbench**, check out the setup instructions [here](https://github.com/GoogleCloudPlatform/generative-ai/tree/main/setup-env)."
   ]
  },
  {
   "cell_type": "code",
   "execution_count": 52,
   "metadata": {
    "id": "LCaCx6PLSBW6",
    "tags": []
   },
   "outputs": [],
   "source": [
    "import sys\n",
    "\n",
    "if \"google.colab\" in sys.modules:\n",
    "    from google.colab import auth\n",
    "\n",
    "    auth.authenticate_user()"
   ]
  },
  {
   "cell_type": "markdown",
   "metadata": {},
   "source": [
    "- If you are running this notebook in a local development environment:\n",
    "  - Install the [Google Cloud SDK](https://cloud.google.com/sdk).\n",
    "  - Obtain authentication credentials. Create local credentials by running the following command and following the oauth2 flow (read more about the command [here](https://cloud.google.com/sdk/gcloud/reference/beta/auth/application-default/login)):\n",
    "\n",
    "    ```bash\n",
    "    gcloud auth application-default login\n",
    "    ```"
   ]
  },
  {
   "cell_type": "markdown",
   "metadata": {
    "id": "BDYqwDmTLgEy"
   },
   "source": [
    "## Vertex AI PaLM API models\n",
    "\n",
    "The Vertex AI PaLM API enables you to test, customize, and deploy instances of Google's large language models (LLM) called as PaLM,  so that you can leverage the capabilities of PaLM in your applications.\n",
    "\n",
    "### Model naming scheme\n",
    "Foundation model names have three components: use case, model size, and version number. The naming convention is in the format:  \n",
    "`<use case>-<model size>@<version number>`\n",
    "\n",
    "For example, `text-bison` represents the Bison text model.\n",
    "\n",
    "The model sizes are as follows:\n",
    "- **Bison**: The best value in terms of capability and cost.\n",
    "- **Gecko**: The smallest and cheapest model for simple tasks.\n",
    "\n",
    "### Available models\n",
    "\n",
    "The Vertex AI PaLM API currently supports five models:\n",
    "\n",
    "*   `text-bison` : Fine-tuned to follow natural language instructions and is suitable for a variety of language tasks.\n",
    "*   `chat-bison` : Fine-tuned for multi-turn conversation use cases like building a chatbot.\n",
    "*   `textembedding-gecko` : Returns model embeddings for text inputs.\n",
    "\n",
    "* `code-bison`: A model fine-tuned to generate code based on a natural language description of the desired code. For example, it can generate a unit test for a function.\n",
    "\n",
    "* `code-gecko`: A model fine-tuned to suggest code completion based on the context in code that's written.\n",
    "\n",
    "* `codechat-bison`: A model fine-tuned for chatbot conversations that help with code-related questions.\n",
    "\n",
    "You can find more information about the properties of these [foundational models in the Generative AI Studio documentation](https://cloud.google.com/vertex-ai/docs/generative-ai/learn/models#foundation_models).\n"
   ]
  },
  {
   "cell_type": "markdown",
   "metadata": {
    "id": "BuQwwRiniVFG"
   },
   "source": [
    "### Import libraries"
   ]
  },
  {
   "cell_type": "markdown",
   "metadata": {
    "id": "Vnq2kIV8yQ97"
   },
   "source": [
    "**Colab only:** Run the following cell to initialize the Vertex AI SDK. For Vertex AI Workbench, you don't need to run this."
   ]
  },
  {
   "cell_type": "code",
   "execution_count": 54,
   "metadata": {
    "id": "rtMowvm-yQ97",
    "tags": []
   },
   "outputs": [],
   "source": [
    "import vertexai\n",
    "\n",
    "PROJECT_ID = \"qwiklabs-gcp-04-05e88920ca76\"  # @param {type:\"string\"}\n",
    "REGION = \"us-central1\"  # @param {type:\"string\"}\n",
    "\n",
    "# Initialize Vertex AI SDK\n",
    "vertexai.init(project=PROJECT_ID, location=REGION)"
   ]
  },
  {
   "cell_type": "code",
   "execution_count": 55,
   "metadata": {
    "id": "4zjV4alsiVql",
    "tags": []
   },
   "outputs": [],
   "source": [
    "import pandas as pd\n",
    "import seaborn as sns\n",
    "from IPython.display import Markdown, display\n",
    "from sklearn.metrics.pairwise import cosine_similarity\n",
    "from vertexai.language_models import (\n",
    "    TextGenerationModel,\n",
    "    TextEmbeddingModel,\n",
    "    ChatModel,\n",
    "    InputOutputTextPair,\n",
    "    CodeGenerationModel,\n",
    "    CodeChatModel,\n",
    ")"
   ]
  },
  {
   "cell_type": "markdown",
   "metadata": {
    "id": "_mU6EZEhakVu"
   },
   "source": [
    "## Text generation with `text-bison`\n",
    "\n",
    "The text generation model from PaLM API that you will use in this notebook is `text-bison`.\n",
    "It is fine-tuned to follow natural language instructions and is suitable for a variety of language tasks, such as:\n",
    "\n",
    "- Classification\n",
    "- Sentiment analysis\n",
    "- Entity extraction\n",
    "- Extractive question-answering\n",
    "- Summarization\n",
    "- Re-writing text in a different style\n",
    "- Ad copy generation\n",
    "- Concept ideation\n",
    "- Concept simplification"
   ]
  },
  {
   "cell_type": "markdown",
   "metadata": {
    "id": "4437b7608c8e"
   },
   "source": [
    "#### Load model"
   ]
  },
  {
   "cell_type": "code",
   "execution_count": 56,
   "metadata": {
    "id": "2998506fe6d1",
    "tags": []
   },
   "outputs": [
    {
     "name": "stderr",
     "output_type": "stream",
     "text": [
      "WARNING: All log messages before absl::InitializeLog() is called are written to STDERR\n",
      "I0000 00:00:1725071300.880337    6426 config.cc:230] gRPC experiments enabled: call_status_override_on_cancellation, event_engine_dns, event_engine_listener, http2_stats_fix, monitoring_experiment, pick_first_new, trace_record_callops, work_serializer_clears_time_cache\n"
     ]
    }
   ],
   "source": [
    "generation_model = TextGenerationModel.from_pretrained(\"text-bison\")"
   ]
  },
  {
   "cell_type": "markdown",
   "metadata": {
    "id": "7a5d006f3813"
   },
   "source": [
    "#### Prompt design\n",
    "Prompt design is the process of creating prompts that elicit the desired response from a language model. Prompt design is an important part of using language models because it allows non-specialists to control the output of the model with minimal overhead. By carefully crafting the prompts, you can nudge the model to generate a desired result. Prompt design can be an efficient way to experiment with adapting an LLM for a specific use case. The iterative process of repeatedly updating prompts and assessing the model's responses is sometimes called prompt engineering."
   ]
  },
  {
   "cell_type": "markdown",
   "metadata": {
    "id": "kEAJ0ipmbndQ"
   },
   "source": [
    "#### Hello PaLM"
   ]
  },
  {
   "cell_type": "markdown",
   "metadata": {
    "id": "tCgBDJvNRCF5"
   },
   "source": [
    "Create your first prompt and send it to the text generation model."
   ]
  },
  {
   "cell_type": "code",
   "execution_count": 57,
   "metadata": {
    "id": "cx_o455SRCF5",
    "tags": []
   },
   "outputs": [
    {
     "name": "stdout",
     "output_type": "stream",
     "text": [
      " A large language model (LLM) is a type of artificial intelligence (AI) that can understand and generate human language. LLMs are trained on massive datasets of text and code, and they learn to identify patterns and relationships in language. This allows them to generate text that is both coherent and informative.\n",
      "\n",
      "LLMs are used in a variety of applications, including:\n",
      "\n",
      "* **Natural language processing (NLP)**: LLMs can be used to perform a variety of NLP tasks, such as machine translation, text summarization, and question answering.\n",
      "* **Chatbots**: LLMs can be used to create chatbots that can interact\n"
     ]
    }
   ],
   "source": [
    "prompt = \"What is a large language model?\"\n",
    "\n",
    "response = generation_model.predict(prompt=prompt)\n",
    "\n",
    "print(response.text)"
   ]
  },
  {
   "cell_type": "markdown",
   "metadata": {
    "id": "Us8idXnVyQ97"
   },
   "source": [
    "#### Try out your own prompt"
   ]
  },
  {
   "cell_type": "markdown",
   "metadata": {
    "id": "_8YW1hBNyQ97"
   },
   "source": [
    "- What are the biggest challenges facing the healthcare industry?\n",
    "- What are the latest developments in the automotive industry?\n",
    "- What are the biggest opportunities in the retail industry?\n",
    "- (Try your own prompts!)"
   ]
  },
  {
   "cell_type": "code",
   "execution_count": 58,
   "metadata": {
    "id": "MmAZQW1GyQ97",
    "tags": []
   },
   "outputs": [
    {
     "name": "stdout",
     "output_type": "stream",
     "text": [
      " **10 Trends in the Tech Industry**\n",
      "\n",
      "1. Artificial intelligence\n",
      "2. Cloud computing\n",
      "3. Cybersecurity\n",
      "4. Data analytics\n",
      "5. 5G networks\n",
      "6. Internet of Things\n",
      "7. Machine learning\n",
      "8. Robotics\n",
      "9. Virtual reality\n",
      "10. Blockchain\n"
     ]
    }
   ],
   "source": [
    "prompt = \"\"\"Create a numbered list of 10 items. Each item in the list should be a trend in the tech industry.\n",
    "\n",
    "Each trend should be less than 5 words.\"\"\"  # try your own prompt\n",
    "\n",
    "response = generation_model.predict(prompt=prompt)\n",
    "\n",
    "print(response.text)"
   ]
  },
  {
   "cell_type": "markdown",
   "metadata": {
    "id": "EsglQtgDRCF5"
   },
   "source": [
    "#### Prompt templates"
   ]
  },
  {
   "cell_type": "markdown",
   "metadata": {
    "id": "9BP1BKWiRCF6"
   },
   "source": [
    "Prompt templates are useful if you have found a good way to structure your prompt that you can re-use. This can be also be helpful in limiting the open-endedness of freeform prompts. There are many ways to implement prompt templates, and below is just one example using f-strings."
   ]
  },
  {
   "cell_type": "code",
   "execution_count": 59,
   "metadata": {
    "id": "2USfPyOuFhlB",
    "tags": []
   },
   "outputs": [
    {
     "name": "stdout",
     "output_type": "stream",
     "text": [
      " **10 Trends in the Tech Industry**\n",
      "\n",
      "1. Artificial intelligence\n",
      "2. Machine learning\n",
      "3. Cloud computing\n",
      "4. Internet of Things\n",
      "5. 5G networks\n",
      "6. Blockchain\n",
      "7. Cybersecurity\n",
      "8. Virtual reality\n",
      "9. Augmented reality\n",
      "10. Quantum computing\n"
     ]
    }
   ],
   "source": [
    "my_industry = \"tech\"  # try changing this to a different industry\n",
    "\n",
    "response = generation_model.predict(\n",
    "    prompt=f\"\"\"Create a numbered list of 10 items. Each item in the list should\n",
    "    be a trend in the {my_industry} industry.\n",
    "\n",
    "    Each trend should be less than 5 words.\"\"\"\n",
    ")\n",
    "\n",
    "print(response.text)"
   ]
  },
  {
   "cell_type": "markdown",
   "metadata": {
    "id": "m65AyLt8yvdB"
   },
   "source": [
    "### Model parameters for `text-bison`"
   ]
  },
  {
   "cell_type": "markdown",
   "metadata": {
    "id": "vQuZh6GT0Yn4"
   },
   "source": [
    "You can customize how the PaLM API behaves in response to your prompt by using the following parameters for `text-bison`:\n",
    "\n",
    " - `temperature`: higher means more \"creative\" responses\n",
    " - `max_output_tokens`: sets the max number of tokens in the output\n",
    " - `top_p`: higher means it will pull from more possible next tokens, based on cumulative probability\n",
    " - `top_k`: higher means it will sample from more possible next tokens\n",
    "\n",
    "The section below covers each parameter and how to use them."
   ]
  },
  {
   "cell_type": "markdown",
   "metadata": {
    "id": "JF76AKzaF2IP"
   },
   "source": [
    "#### The `temperature` parameter (range: 0.0 - 1.0, default 0)\n",
    "\n",
    "##### What is _temperature_?\n",
    "The temperature is used for sampling during the response generation, which occurs when top_p and top_k are applied. Temperature controls the degree of randomness in token selection.\n",
    "\n",
    "##### How does _temperature_ affect the response?\n",
    "Lower temperatures are good for prompts that require a more deterministic and less open-ended response. In comparison, higher temperatures can lead to more \"creative\" or diverse results. A temperature of `0` is deterministic: the highest probability response is always selected. For most use cases, try starting with a temperature of `0.2`.\n",
    "\n",
    "A higher temperature value will result in a more explorative output, with a higher likelihood of generating rare or unusual words or phrases. Conversely, a lower temperature value will result in a more conservative output, with a higher likelihood of generating common or expected words or phrases.\n",
    "\n",
    "##### Example:\n",
    "\n",
    "For example,\n",
    "\n",
    "`temperature = 0.0`:\n",
    "\n",
    "* _The cat sat on the couch, watching the birds outside._\n",
    "* _The cat sat on the windowsill, basking in the sun._\n",
    "\n",
    "`temperature = 0.9`:\n",
    "\n",
    "* _The cat sat on the moon, meowing at the stars._\n",
    "* _The cat sat on the cheeseburger, purring with delight._\n",
    "\n",
    "**Note**: It's important to note that while the temperature parameter can help generate more diverse and interesting text, it can also increase the likelihood of generating nonsensical or inappropriate text (i.e. hallucinations). Therefore, it's important to use it carefully and with consideration for the desired outcome.\n",
    "\n",
    "For more information on the `temperature` parameter for text models, please refer to the [documentation on model parameters](https://cloud.google.com/vertex-ai/docs/generative-ai/learn/models#text_model_parameters)."
   ]
  },
  {
   "cell_type": "markdown",
   "metadata": {
    "id": "aMEz2P18SBW-"
   },
   "source": [
    "If you run the following cell multiple times, it should always return the same response, as `temperature=0` is deterministic."
   ]
  },
  {
   "cell_type": "code",
   "execution_count": 60,
   "metadata": {
    "id": "cxPM1A8uR81l",
    "tags": []
   },
   "outputs": [
    {
     "name": "stdout",
     "output_type": "stream",
     "text": [
      "[temperature = 0.0]\n",
      " As I prepared the picture frame, I reached into my toolkit to fetch my hammer.\n"
     ]
    }
   ],
   "source": [
    "temp_val = 0.0\n",
    "prompt_temperature = \"Complete the sentence: As I prepared the picture frame, I reached into my toolkit to fetch my:\"\n",
    "\n",
    "response = generation_model.predict(\n",
    "    prompt=prompt_temperature,\n",
    "    temperature=temp_val,\n",
    ")\n",
    "\n",
    "print(f\"[temperature = {temp_val}]\")\n",
    "print(response.text)"
   ]
  },
  {
   "cell_type": "markdown",
   "metadata": {
    "id": "5B91rIFiSBW_"
   },
   "source": [
    "If you run the following cell multiple times, it may return different responses, as higher temperature values can lead to more diverse results, even though the prompt is the same as the above cell."
   ]
  },
  {
   "cell_type": "code",
   "execution_count": 61,
   "metadata": {
    "id": "z2mKiDB5SBW_",
    "tags": []
   },
   "outputs": [
    {
     "name": "stdout",
     "output_type": "stream",
     "text": [
      "[temperature = 1.0]\n",
      " hammer.\n"
     ]
    }
   ],
   "source": [
    "temp_val = 1.0\n",
    "\n",
    "response = generation_model.predict(\n",
    "    prompt=prompt_temperature,\n",
    "    temperature=temp_val,\n",
    ")\n",
    "\n",
    "print(f\"[temperature = {temp_val}]\")\n",
    "print(response.text)"
   ]
  },
  {
   "cell_type": "markdown",
   "metadata": {
    "id": "JRYTOKQpGpfP"
   },
   "source": [
    "#### The `max_output_tokens` parameter (range: 1 - 1024, default 128)\n",
    "\n",
    "##### Tokens\n",
    "A single token may be smaller than a word. For example, a token is approximately four characters. So 100 tokens correspond to roughly 60-80 words. It's essential to be aware of the token sizes as models have a limit on input and output tokens.\n",
    "\n",
    "##### What is _max_output_tokens_?\n",
    "`max_output_tokens` is the maximum number of tokens that can be generated in the response.\n",
    "\n",
    "##### How does _max_output_tokens_ affect the response?\n",
    "\n",
    "Specify a lower value for shorter responses and a higher value for longer responses. A token may be smaller than a word. A token is approximately four characters. 100 tokens correspond to roughly 60-80 words.\n",
    "\n",
    "For more information on the `max_output_tokens` parameter for text models, please refer to the [documentation on model parameters](https://cloud.google.com/vertex-ai/docs/generative-ai/learn/models#text_model_parameters)."
   ]
  },
  {
   "cell_type": "code",
   "execution_count": 62,
   "metadata": {
    "id": "ZUjANX_mNLuI",
    "tags": []
   },
   "outputs": [
    {
     "name": "stdout",
     "output_type": "stream",
     "text": [
      "[max_output_tokens = 5]\n",
      " 1. **Personalized\n"
     ]
    }
   ],
   "source": [
    "max_output_tokens_val = 5\n",
    "\n",
    "response = generation_model.predict(\n",
    "    prompt=\"List ten ways that generative AI can help improve the online shopping experience for users\",\n",
    "    max_output_tokens=max_output_tokens_val,\n",
    ")\n",
    "\n",
    "print(f\"[max_output_tokens = {max_output_tokens_val}]\")\n",
    "print(response.text)"
   ]
  },
  {
   "cell_type": "code",
   "execution_count": 63,
   "metadata": {
    "id": "9DiHeUgSNX1m",
    "tags": []
   },
   "outputs": [
    {
     "name": "stdout",
     "output_type": "stream",
     "text": [
      "[max_output_tokens = 500]\n",
      " 1. **Personalized Recommendations**: Generative AI can analyze user data and preferences to provide tailored product recommendations, enhancing the overall shopping experience and increasing the likelihood of conversions.\n",
      "\n",
      "2. **Virtual Assistants**: AI-powered virtual assistants can assist users with their shopping queries, provide information about products, and guide them through the purchasing process, creating a more seamless and efficient experience.\n",
      "\n",
      "3. **Image Generation**: Generative AI can generate high-quality images of products from different angles and in various settings, allowing users to visualize items more accurately and make informed decisions.\n",
      "\n",
      "4. **Style Recommendations**: AI can analyze a user's style preferences and suggest complementary items, helping them build a cohesive and fashionable wardrobe or home décor.\n",
      "\n",
      "5. **Product Descriptions**: Generative AI can create detailed and engaging product descriptions that highlight key features and benefits, providing users with comprehensive information to make informed choices.\n",
      "\n",
      "6. **Chatbots for Customer Service**: AI-powered chatbots can handle customer inquiries and provide support 24/7, resolving issues quickly and efficiently, leading to improved customer satisfaction.\n",
      "\n",
      "7. **Dynamic Pricing**: Generative AI can analyze market trends, demand, and supply to suggest optimal pricing strategies, ensuring competitive pricing and maximizing revenue for businesses.\n",
      "\n",
      "8. **Fraud Detection**: AI can analyze user behavior and transaction patterns to detect suspicious activities, protecting users from fraudulent transactions and enhancing the security of online shopping.\n",
      "\n",
      "9. **Personalized Marketing**: Generative AI can create personalized marketing campaigns based on user preferences, increasing the relevance and effectiveness of marketing efforts and driving higher conversion rates.\n",
      "\n",
      "10. **Trend Forecasting**: Generative AI can analyze historical data and current trends to predict future fashion or product trends, enabling businesses to stay ahead of the curve and offer the most sought-after items to their customers.\n"
     ]
    }
   ],
   "source": [
    "max_output_tokens_val = 500\n",
    "\n",
    "response = generation_model.predict(\n",
    "    prompt=\"List ten ways that generative AI can help improve the online shopping experience for users\",\n",
    "    max_output_tokens=max_output_tokens_val,\n",
    ")\n",
    "\n",
    "print(f\"[max_output_tokens = {max_output_tokens_val}]\")\n",
    "print(response.text)"
   ]
  },
  {
   "cell_type": "markdown",
   "metadata": {
    "id": "ZRVHZ546yQ98"
   },
   "source": [
    "For easier reading, you can also render Markdown in Jupyter:"
   ]
  },
  {
   "cell_type": "code",
   "execution_count": 64,
   "metadata": {
    "id": "6MxmNsp-yQ98",
    "tags": []
   },
   "outputs": [
    {
     "data": {
      "text/markdown": [
       " 1. **Personalized Recommendations**: Generative AI can analyze user data and preferences to provide tailored product recommendations, enhancing the overall shopping experience and increasing the likelihood of conversions.\n",
       "\n",
       "2. **Virtual Assistants**: AI-powered virtual assistants can assist users with their shopping queries, provide information about products, and guide them through the purchasing process, creating a more seamless and efficient experience.\n",
       "\n",
       "3. **Image Generation**: Generative AI can generate high-quality images of products from different angles and in various settings, allowing users to visualize items more accurately and make informed decisions.\n",
       "\n",
       "4. **Style Recommendations**: AI can analyze a user's style preferences and suggest complementary items, helping them build a cohesive and fashionable wardrobe or home décor.\n",
       "\n",
       "5. **Product Descriptions**: Generative AI can create detailed and engaging product descriptions that highlight key features and benefits, providing users with comprehensive information to make informed choices.\n",
       "\n",
       "6. **Chatbots for Customer Service**: AI-powered chatbots can handle customer inquiries and provide support 24/7, resolving issues quickly and efficiently, leading to improved customer satisfaction.\n",
       "\n",
       "7. **Dynamic Pricing**: Generative AI can analyze market trends, demand, and supply to suggest optimal pricing strategies, ensuring competitive pricing and maximizing revenue for businesses.\n",
       "\n",
       "8. **Fraud Detection**: AI can analyze user behavior and transaction patterns to detect suspicious activities, protecting users from fraudulent transactions and enhancing the security of online shopping.\n",
       "\n",
       "9. **Personalized Marketing**: Generative AI can create personalized marketing campaigns based on user preferences, increasing the relevance and effectiveness of marketing efforts and driving higher conversion rates.\n",
       "\n",
       "10. **Trend Forecasting**: Generative AI can analyze historical data and current trends to predict future fashion or product trends, enabling businesses to stay ahead of the curve and offer the most sought-after items to their customers."
      ],
      "text/plain": [
       "<IPython.core.display.Markdown object>"
      ]
     },
     "metadata": {},
     "output_type": "display_data"
    }
   ],
   "source": [
    "display(Markdown(response.text))"
   ]
  },
  {
   "cell_type": "markdown",
   "metadata": {
    "id": "kD3S2XsnHL50"
   },
   "source": [
    "#### The `top_p` parameter (range: 0.0 - 1.0, default 0.95)\n",
    "\n",
    "##### What is _top_p_?\n",
    "`top_p` controls how the model selects tokens for output by adjusting the probability distribution of the next word in the generated text based on a cumulative probability cutoff. Specifically, it selects the smallest set of tokens whose cumulative probability exceeds the given cutoff probability _p_, and samples from this set uniformly.\n",
    "\n",
    "\n",
    "For example, suppose tokens A, B, and C have a probability of 0.3, 0.2, and 0.1, and the `top_p` value is 0.5. In that case, the model will select either A or B as the next token (using temperature) and not consider C, because the cumulative probability of top_p is <= 0.5. Specify a lower value for less random responses and a higher value for more random responses.\n",
    "\n",
    "##### How does _top_p_ affect the response?\n",
    "\n",
    "The `top_p` parameter is used to control the diversity of the generated text. A higher `top_p` parameter value results in more \"diverse\" and \"interesting\" outputs, with the model being allowed to sample from a larger pool of possibilities. In contrast, a lower `top_p` parameter value resulted in more predictable outputs, with the model being constrained to a smaller set of possible tokens.\n",
    "\n",
    "\n",
    "##### Example:\n",
    "\n",
    "`top_p = 0.1`:\n",
    "\n",
    "- The cat sat on the mat.\n",
    "- The cat sat on the floor.\n",
    "\n",
    "`top_p = 0.9`:\n",
    "\n",
    "- The cat sat on the windowsill, soaking up the sun's rays.\n",
    "- The cat sat on the edge of the bed, watching the birds outside.\n",
    "\n",
    "For more information on the `top_p` parameter for text models, please refer to the [documentation on model parameters](https://cloud.google.com/vertex-ai/docs/generative-ai/learn/models#text_model_parameters)."
   ]
  },
  {
   "cell_type": "code",
   "execution_count": 65,
   "metadata": {
    "id": "RAJiVYprNle1",
    "tags": []
   },
   "outputs": [
    {
     "name": "stdout",
     "output_type": "stream",
     "text": [
      "[top_p = 0.0]\n",
      " **Campaign Name:** \"The Blue Elephant and the Avocado: A Match Made in Fashion Heaven\"\n",
      "\n",
      "**Concept:**\n",
      "The campaign will combine the unexpected elements of blue elephants and avocados to create a memorable and eye-catching marketing campaign for jackets. The campaign will highlight the uniqueness, boldness, and playful nature of the jackets while emphasizing their versatility and comfort.\n",
      "\n",
      "**Target Audience:**\n",
      "The campaign will target a fashion-forward, adventurous, and unconventional audience who appreciates a touch of whimsy and humor in their style. The target market will include both men and women in their 20s and 30s who are looking for\n"
     ]
    }
   ],
   "source": [
    "top_p_val = 0.0\n",
    "prompt_top_p_example = (\n",
    "    \"Create a marketing campaign for jackets that involves blue elephants and avocados.\"\n",
    ")\n",
    "\n",
    "response = generation_model.predict(\n",
    "    prompt=prompt_top_p_example, temperature=0.9, top_p=top_p_val\n",
    ")\n",
    "\n",
    "print(f\"[top_p = {top_p_val}]\")\n",
    "print(response.text)"
   ]
  },
  {
   "cell_type": "code",
   "execution_count": 66,
   "metadata": {
    "id": "zm69kbcyN2gg",
    "tags": []
   },
   "outputs": [
    {
     "name": "stdout",
     "output_type": "stream",
     "text": [
      "[top_p = 1.0]\n",
      " **Campaign Name:** \"The Blue Elephant and the Avocado: A Match Made in Fashion Heaven\"\n",
      "\n",
      "**Concept:**\n",
      "The campaign will combine the unexpected elements of blue elephants and avocados to create a memorable and eye-catching marketing campaign for jackets. The campaign will highlight the uniqueness, boldness, and playful nature of the jackets while emphasizing their versatility and comfort.\n",
      "\n",
      "**Target Audience:**\n",
      "The campaign will target a fashion-forward, adventurous, and unconventional audience who appreciates a touch of whimsy and humor in their style. The target market will include both men and women in their 20s and 30s who are looking for\n"
     ]
    }
   ],
   "source": [
    "top_p_val = 1.0\n",
    "\n",
    "response = generation_model.predict(\n",
    "    prompt=prompt_top_p_example, temperature=0.9, top_p=top_p_val\n",
    ")\n",
    "\n",
    "print(f\"[top_p = {top_p_val}]\")\n",
    "print(response.text)"
   ]
  },
  {
   "cell_type": "markdown",
   "metadata": {
    "id": "Krop7HXOIy8f"
   },
   "source": [
    "#### The `top_k` parameter (range: 0.0 - 40, default 40)\n",
    "\n",
    "##### What is _top_k_?\n",
    "`top_k` changes how the model selects tokens for output. A `top_k` of 1 means the selected token is the most probable among all tokens in the model's vocabulary (also called greedy decoding). In contrast, a `top_k` of 3 means that the next token is selected from the top 3 most probable tokens (using temperature). For each token selection step, the `top_k` tokens with the highest probabilities are sampled. Then tokens are further filtered based on `top_p` with the final token selected using temperature sampling.\n",
    "\n",
    "##### How does _top_k_ affect the response?\n",
    "\n",
    "Specify a lower value for less random responses and a higher value for more random responses.\n",
    "\n",
    "For more information on the `top_k` parameter for text models, please refer to the [documentation on model parameters](https://cloud.google.com/vertex-ai/docs/generative-ai/learn/models#text_model_parameters)."
   ]
  },
  {
   "cell_type": "code",
   "execution_count": 67,
   "metadata": {
    "id": "qK76o1hYO3ej",
    "tags": []
   },
   "outputs": [
    {
     "name": "stdout",
     "output_type": "stream",
     "text": [
      "[top_k = 1]\n",
      " **Day 1:**\n",
      "**Morning:**\n",
      "* Arrive in Paris and check into your hotel.\n",
      "* Take a walk through the Tuileries Gardens, enjoying the beautiful sculptures and fountains.\n",
      "* Visit the Louvre Museum, home to some of the world's most famous works of art, including the Mona Lisa and Venus de Milo.\n",
      "\n",
      "**Afternoon:**\n",
      "* Enjoy a leisurely lunch at a cafe on the Seine River.\n",
      "* Take a boat trip down the Seine, admiring the beautiful bridges and buildings that line the riverbanks.\n",
      "* Visit Notre Dame Cathedral, one of the most iconic landmarks in Paris.\n",
      "\n",
      "**Evening:**\n",
      "* Have dinner at a traditional French restaurant in the Montmartre neighborhood.\n",
      "* Take a stroll through the Montmartre Cemetery, where you can see the graves of famous artists and writers, such as Vincent van Gogh and Oscar Wilde.\n",
      "* Enjoy a glass of wine at a bar with a view of the Sacré-Cœur Basilica.\n",
      "\n",
      "**Day 2:**\n",
      "**Morning:**\n",
      "* Visit the Palace of Versailles, a UNESCO World Heritage Site and one of the most opulent palaces in the world.\n",
      "* Take a walk through the palace's beautiful gardens, admiring the fountains, sculptures, and flowerbeds.\n",
      "* Visit the Grand Trianon, a smaller palace located within the grounds of Versailles.\n",
      "\n",
      "**Afternoon:**\n",
      "* Enjoy a picnic lunch in the gardens of Versailles.\n",
      "* Take a bike ride through the nearby forest, enjoying the\n"
     ]
    }
   ],
   "source": [
    "prompt_top_k_example = \"Write a 2-day itinerary for France.\"\n",
    "top_k_val = 1\n",
    "\n",
    "response = generation_model.predict(\n",
    "    prompt=prompt_top_k_example, max_output_tokens=300, temperature=0.9, top_k=top_k_val\n",
    ")\n",
    "\n",
    "print(f\"[top_k = {top_k_val}]\")\n",
    "print(response.text)"
   ]
  },
  {
   "cell_type": "code",
   "execution_count": 68,
   "metadata": {
    "id": "Hhu9d23vPGmK",
    "tags": []
   },
   "outputs": [
    {
     "name": "stdout",
     "output_type": "stream",
     "text": [
      "[top_k = 40]\n",
      " **Day 1: Paris**\n",
      "\n",
      "**Morning:**\n",
      "* Visit the Eiffel Tower. Take the elevator to the top for stunning views of the city.\n",
      "* Take a walk through the Tuileries Gardens.\n",
      "* Visit the Louvre Museum. See some of the world's most famous works of art, including the Mona Lisa and Venus de Milo.\n",
      "\n",
      "**Afternoon:**\n",
      "* Have lunch at a café in the Latin Quarter.\n",
      "* Visit the Notre Dame Cathedral. Admire its Gothic architecture and stained glass windows.\n",
      "* Take a boat trip on the River Seine.\n",
      "\n",
      "**Evening:**\n",
      "* Enjoy a traditional French dinner at a restaurant in Montmartre.\n",
      "* Watch the sunset from Sacré-Cœur Basilica.\n",
      "\n",
      "**Day 2: Versailles**\n",
      "\n",
      "**Morning:**\n",
      "* Take a day trip to Versailles.\n",
      "* Visit the Palace of Versailles. Explore the lavish state apartments and the Hall of Mirrors.\n",
      "* Take a walk through the gardens of Versailles.\n",
      "\n",
      "**Afternoon:**\n",
      "* Have lunch at a restaurant in the town of Versailles.\n",
      "* Visit the Grand Trianon. This smaller palace was built as a retreat for the king.\n",
      "* Take a walk through the Petit Trianon. This charming garden was built for Marie Antoinette.\n",
      "\n",
      "**Evening:**\n",
      "* Return to Paris.\n",
      "* Enjoy a farewell dinner at your favorite restaurant in Paris.\n"
     ]
    }
   ],
   "source": [
    "top_k_val = 40\n",
    "\n",
    "response = generation_model.predict(\n",
    "    prompt=prompt_top_k_example,\n",
    "    max_output_tokens=300,\n",
    "    temperature=0.9,\n",
    "    top_k=top_k_val,\n",
    ")\n",
    "\n",
    "print(f\"[top_k = {top_k_val}]\")\n",
    "print(response.text)"
   ]
  },
  {
   "cell_type": "markdown",
   "metadata": {
    "id": "14ada40abecc"
   },
   "source": [
    "## Chat model with `chat-bison`"
   ]
  },
  {
   "cell_type": "markdown",
   "metadata": {
    "id": "1923b5583a2d"
   },
   "source": [
    "The `chat-bison` model lets you have a freeform conversation across multiple turns. The application tracks what was previously said in the conversation. As such, if you expect to use conversations in your application, use the `chat-bison` model because it has been fine-tuned for multi-turn conversation use cases."
   ]
  },
  {
   "cell_type": "code",
   "execution_count": 69,
   "metadata": {
    "id": "1325438b9188",
    "tags": []
   },
   "outputs": [
    {
     "name": "stdout",
     "output_type": "stream",
     "text": [
      "MultiCandidateTextGenerationResponse(text=\" Certainly! Here's a 300-word abstract for your research paper on the impact of AI on society:\\n\\n**Title: The Profound Impact of Artificial Intelligence on Society: A Comprehensive Analysis**\\n\\n**Abstract:**\\nArtificial Intelligence (AI) has emerged as a transformative force, profoundly shaping various aspects of society. This research paper aims to provide a comprehensive analysis of the impact of AI on society, encompassing its benefits, challenges, and ethical considerations.\\n\\n**Introduction:**\\nAI has revolutionized numerous industries, including healthcare, finance, transportation, and manufacturing, leading to increased efficiency, accuracy, and productivity. This paper explores the positive contributions of AI in enhancing societal progress and improving the quality of life.\\n\\n**Benefits of AI:**\\nThe benefits of AI are multifaceted. In the healthcare sector, AI-powered diagnostics and personalized treatments have improved patient outcomes. AI has also revolutionized the financial industry, enabling faster and more accurate data analysis for informed decision-making. Moreover, AI-driven automation in manufacturing has enhanced productivity and safety.\\n\\n**Challenges of AI:**\\nDespite its benefits, AI poses several challenges. Job displacement due to automation is a significant concern, particularly for low-skilled workers. Additionally, the increasing reliance on AI systems raises questions about data privacy, security, and algorithmic bias. These challenges require careful consideration and mitigation strategies to ensure responsible AI development and implementation.\\n\\n**Ethical Considerations:**\\nThe ethical implications of AI demand thorough examination. As AI systems become more autonomous, issues of accountability, transparency, and liability arise. Moreover, the potential for AI to exacerbate existing inequalities and biases must be addressed to promote fairness and inclusivity.\\n\\n**Conclusion:**\\nIn conclusion, this research paper presents a comprehensive analysis of the impact of AI on society, highlighting its benefits, challenges, and ethical considerations. By understanding the profound implications of AI, we can harness its potential while addressing associated risks to shape a future where AI contributes positively to societal progress and human well-being.\", _prediction_response=Prediction(predictions=[{'candidates': [{'content': \" Certainly! Here's a 300-word abstract for your research paper on the impact of AI on society:\\n\\n**Title: The Profound Impact of Artificial Intelligence on Society: A Comprehensive Analysis**\\n\\n**Abstract:**\\nArtificial Intelligence (AI) has emerged as a transformative force, profoundly shaping various aspects of society. This research paper aims to provide a comprehensive analysis of the impact of AI on society, encompassing its benefits, challenges, and ethical considerations.\\n\\n**Introduction:**\\nAI has revolutionized numerous industries, including healthcare, finance, transportation, and manufacturing, leading to increased efficiency, accuracy, and productivity. This paper explores the positive contributions of AI in enhancing societal progress and improving the quality of life.\\n\\n**Benefits of AI:**\\nThe benefits of AI are multifaceted. In the healthcare sector, AI-powered diagnostics and personalized treatments have improved patient outcomes. AI has also revolutionized the financial industry, enabling faster and more accurate data analysis for informed decision-making. Moreover, AI-driven automation in manufacturing has enhanced productivity and safety.\\n\\n**Challenges of AI:**\\nDespite its benefits, AI poses several challenges. Job displacement due to automation is a significant concern, particularly for low-skilled workers. Additionally, the increasing reliance on AI systems raises questions about data privacy, security, and algorithmic bias. These challenges require careful consideration and mitigation strategies to ensure responsible AI development and implementation.\\n\\n**Ethical Considerations:**\\nThe ethical implications of AI demand thorough examination. As AI systems become more autonomous, issues of accountability, transparency, and liability arise. Moreover, the potential for AI to exacerbate existing inequalities and biases must be addressed to promote fairness and inclusivity.\\n\\n**Conclusion:**\\nIn conclusion, this research paper presents a comprehensive analysis of the impact of AI on society, highlighting its benefits, challenges, and ethical considerations. By understanding the profound implications of AI, we can harness its potential while addressing associated risks to shape a future where AI contributes positively to societal progress and human well-being.\", 'author': '1'}], 'groundingMetadata': [{}], 'citationMetadata': [{'citations': []}], 'safetyAttributes': [{'blocked': False, 'safetyRatings': [{'probabilityScore': 0.1, 'severityScore': 0.0, 'severity': 'NEGLIGIBLE', 'category': 'Dangerous Content'}, {'probabilityScore': 0.0, 'severityScore': 0.0, 'severity': 'NEGLIGIBLE', 'category': 'Harassment'}, {'probabilityScore': 0.0, 'severityScore': 0.0, 'severity': 'NEGLIGIBLE', 'category': 'Hate Speech'}, {'probabilityScore': 0.0, 'severityScore': 0.0, 'severity': 'NEGLIGIBLE', 'category': 'Sexually Explicit'}], 'scores': [1.0, 0.7, 0.2], 'categories': ['Finance', 'Health', 'Legal']}]}], deployed_model_id='', model_version_id='', model_resource_name='', explanations=None), is_blocked=False, safety_attributes={'Finance': 1.0, 'Health': 0.7, 'Legal': 0.2}, grounding_metadata=GroundingMetadata(citations=[], search_queries=[]), candidates=[ Certainly! Here's a 300-word abstract for your research paper on the impact of AI on society:\n",
      "\n",
      "**Title: The Profound Impact of Artificial Intelligence on Society: A Comprehensive Analysis**\n",
      "\n",
      "**Abstract:**\n",
      "Artificial Intelligence (AI) has emerged as a transformative force, profoundly shaping various aspects of society. This research paper aims to provide a comprehensive analysis of the impact of AI on society, encompassing its benefits, challenges, and ethical considerations.\n",
      "\n",
      "**Introduction:**\n",
      "AI has revolutionized numerous industries, including healthcare, finance, transportation, and manufacturing, leading to increased efficiency, accuracy, and productivity. This paper explores the positive contributions of AI in enhancing societal progress and improving the quality of life.\n",
      "\n",
      "**Benefits of AI:**\n",
      "The benefits of AI are multifaceted. In the healthcare sector, AI-powered diagnostics and personalized treatments have improved patient outcomes. AI has also revolutionized the financial industry, enabling faster and more accurate data analysis for informed decision-making. Moreover, AI-driven automation in manufacturing has enhanced productivity and safety.\n",
      "\n",
      "**Challenges of AI:**\n",
      "Despite its benefits, AI poses several challenges. Job displacement due to automation is a significant concern, particularly for low-skilled workers. Additionally, the increasing reliance on AI systems raises questions about data privacy, security, and algorithmic bias. These challenges require careful consideration and mitigation strategies to ensure responsible AI development and implementation.\n",
      "\n",
      "**Ethical Considerations:**\n",
      "The ethical implications of AI demand thorough examination. As AI systems become more autonomous, issues of accountability, transparency, and liability arise. Moreover, the potential for AI to exacerbate existing inequalities and biases must be addressed to promote fairness and inclusivity.\n",
      "\n",
      "**Conclusion:**\n",
      "In conclusion, this research paper presents a comprehensive analysis of the impact of AI on society, highlighting its benefits, challenges, and ethical considerations. By understanding the profound implications of AI, we can harness its potential while addressing associated risks to shape a future where AI contributes positively to societal progress and human well-being.])\n"
     ]
    }
   ],
   "source": [
    "chat_model = ChatModel.from_pretrained(\"chat-bison\")\n",
    "\n",
    "chat = chat_model.start_chat()\n",
    "\n",
    "print(\n",
    "    chat.send_message(\n",
    "        \"\"\"\n",
    "Hello! Can you write a 300 word abstract for a research paper I need to write about the impact of AI on society?\n",
    "\"\"\"\n",
    "    )\n",
    ")"
   ]
  },
  {
   "cell_type": "markdown",
   "metadata": {
    "id": "ef81f564bed1"
   },
   "source": [
    "As shown below, the model should respond based on what was previously said in the conversation:"
   ]
  },
  {
   "cell_type": "code",
   "execution_count": 70,
   "metadata": {
    "id": "30ab5afac7dc",
    "tags": []
   },
   "outputs": [
    {
     "name": "stdout",
     "output_type": "stream",
     "text": [
      "MultiCandidateTextGenerationResponse(text=' **Title Suggestion:**\\n\\n**\"AI\\'s Transformative Impact: Shaping Society\\'s Future Through Innovation and Responsibility\"**', _prediction_response=Prediction(predictions=[{'candidates': [{'content': ' **Title Suggestion:**\\n\\n**\"AI\\'s Transformative Impact: Shaping Society\\'s Future Through Innovation and Responsibility\"**', 'author': 'bot'}], 'groundingMetadata': [{}], 'citationMetadata': [{'citations': []}], 'safetyAttributes': [{'blocked': False, 'safetyRatings': [{'probabilityScore': 0.1, 'severityScore': 0.0, 'severity': 'NEGLIGIBLE', 'category': 'Dangerous Content'}, {'probabilityScore': 0.1, 'severityScore': 0.0, 'severity': 'NEGLIGIBLE', 'category': 'Harassment'}, {'probabilityScore': 0.0, 'severityScore': 0.1, 'severity': 'NEGLIGIBLE', 'category': 'Hate Speech'}, {'probabilityScore': 0.0, 'severityScore': 0.0, 'severity': 'NEGLIGIBLE', 'category': 'Sexually Explicit'}], 'scores': [0.3, 0.1, 0.1], 'categories': ['Finance', 'Health', 'Insult']}]}], deployed_model_id='', model_version_id='', model_resource_name='', explanations=None), is_blocked=False, safety_attributes={'Finance': 0.3, 'Health': 0.1, 'Insult': 0.1}, grounding_metadata=GroundingMetadata(citations=[], search_queries=[]), candidates=[ **Title Suggestion:**\n",
      "\n",
      "**\"AI's Transformative Impact: Shaping Society's Future Through Innovation and Responsibility\"**])\n"
     ]
    }
   ],
   "source": [
    "print(\n",
    "    chat.send_message(\n",
    "        \"\"\"\n",
    "Could you give me a catchy title for the paper?\n",
    "\"\"\"\n",
    "    )\n",
    ")"
   ]
  },
  {
   "cell_type": "markdown",
   "metadata": {
    "id": "fe15a6b083e5"
   },
   "source": [
    "### Advanced Chat model with the SDK\n",
    "You can also provide a `context` and `examples` to the model. The model will then respond based on the provided context and examples. You can also use `temperature`, `max_output_tokens`, `top_p`, and `top_k`. These parameters should be used when you start your chat with `chat_model.start_chat()`.\n",
    "\n",
    "For more information on chat models, please refer to the [documentation on chat model parameters](https://cloud.google.com/vertex-ai/docs/generative-ai/learn/models#chat_model_parameters)."
   ]
  },
  {
   "cell_type": "code",
   "execution_count": 71,
   "metadata": {
    "id": "4047b525961e",
    "tags": []
   },
   "outputs": [
    {
     "name": "stdout",
     "output_type": "stream",
     "text": [
      "MultiCandidateTextGenerationResponse(text=' Yes, both Lord of the Rings and Hobbit are based on the book series written by J.R.R. Tolkien.', _prediction_response=Prediction(predictions=[{'candidates': [{'content': ' Yes, both Lord of the Rings and Hobbit are based on the book series written by J.R.R. Tolkien.', 'author': '1'}], 'groundingMetadata': [{}], 'citationMetadata': [{'citations': []}], 'safetyAttributes': [{'blocked': False, 'safetyRatings': [{'probabilityScore': 0.0, 'severityScore': 0.0, 'severity': 'NEGLIGIBLE', 'category': 'Dangerous Content'}, {'probabilityScore': 0.1, 'severityScore': 0.0, 'severity': 'NEGLIGIBLE', 'category': 'Harassment'}, {'probabilityScore': 0.1, 'severityScore': 0.1, 'severity': 'NEGLIGIBLE', 'category': 'Hate Speech'}, {'probabilityScore': 0.1, 'severityScore': 0.0, 'severity': 'NEGLIGIBLE', 'category': 'Sexually Explicit'}], 'scores': [0.1, 0.1, 0.2, 0.1], 'categories': ['Derogatory', 'Insult', 'Religion & Belief', 'Sexual']}]}], deployed_model_id='', model_version_id='', model_resource_name='', explanations=None), is_blocked=False, safety_attributes={'Derogatory': 0.1, 'Insult': 0.1, 'Religion & Belief': 0.2, 'Sexual': 0.1}, grounding_metadata=GroundingMetadata(citations=[], search_queries=[]), candidates=[ Yes, both Lord of the Rings and Hobbit are based on the book series written by J.R.R. Tolkien.])\n"
     ]
    }
   ],
   "source": [
    "chat = chat_model.start_chat(\n",
    "    context=\"My name is Ned. You are my personal assistant. My favorite movies are Lord of the Rings and Hobbit.\",\n",
    "    examples=[\n",
    "        InputOutputTextPair(\n",
    "            input_text=\"Who do you work for?\",\n",
    "            output_text=\"I work for Ned.\",\n",
    "        ),\n",
    "        InputOutputTextPair(\n",
    "            input_text=\"What do I like?\",\n",
    "            output_text=\"Ned likes watching movies.\",\n",
    "        ),\n",
    "    ],\n",
    "    temperature=0.3,\n",
    "    max_output_tokens=200,\n",
    "    top_p=0.8,\n",
    "    top_k=40,\n",
    ")\n",
    "print(chat.send_message(\"Are my favorite movies based on a book series?\"))"
   ]
  },
  {
   "cell_type": "code",
   "execution_count": 72,
   "metadata": {
    "id": "685184ee4159",
    "tags": []
   },
   "outputs": [
    {
     "name": "stdout",
     "output_type": "stream",
     "text": [
      "MultiCandidateTextGenerationResponse(text=' The Lord of the Rings was published in 1954 and The Hobbit was published in 1937.', _prediction_response=Prediction(predictions=[{'candidates': [{'content': ' The Lord of the Rings was published in 1954 and The Hobbit was published in 1937.', 'author': 'bot'}], 'groundingMetadata': [{}], 'citationMetadata': [{'citations': []}], 'safetyAttributes': [{'blocked': False, 'safetyRatings': [{'probabilityScore': 0.0, 'severityScore': 0.0, 'severity': 'NEGLIGIBLE', 'category': 'Dangerous Content'}, {'probabilityScore': 0.1, 'severityScore': 0.0, 'severity': 'NEGLIGIBLE', 'category': 'Harassment'}, {'probabilityScore': 0.1, 'severityScore': 0.1, 'severity': 'NEGLIGIBLE', 'category': 'Hate Speech'}, {'probabilityScore': 0.1, 'severityScore': 0.0, 'severity': 'NEGLIGIBLE', 'category': 'Sexually Explicit'}], 'scores': [0.1, 0.1, 0.1, 0.1], 'categories': ['Derogatory', 'Insult', 'Religion & Belief', 'Sexual']}]}], deployed_model_id='', model_version_id='', model_resource_name='', explanations=None), is_blocked=False, safety_attributes={'Derogatory': 0.1, 'Insult': 0.1, 'Religion & Belief': 0.1, 'Sexual': 0.1}, grounding_metadata=GroundingMetadata(citations=[], search_queries=[]), candidates=[ The Lord of the Rings was published in 1954 and The Hobbit was published in 1937.])\n"
     ]
    }
   ],
   "source": [
    "print(chat.send_message(\"When where these books published?\"))"
   ]
  },
  {
   "cell_type": "markdown",
   "metadata": {
    "id": "67b6eef99f56"
   },
   "source": [
    "## Embedding model with `textembedding-gecko`"
   ]
  },
  {
   "cell_type": "markdown",
   "metadata": {
    "id": "64a58515878c"
   },
   "source": [
    "Text embeddings are a dense, often low-dimensional, vector representation of a piece of content such that, if two pieces of content are semantically similar, their respective embeddings are located near each other in the embedding vector space. This representation can be used to solve common NLP tasks, such as:\n",
    "\n",
    "* **Semantic search**: Search text ranked by semantic similarity.\n",
    "* **Recommendation**: Return items with text attributes similar to the given text.\n",
    "* **Classification**: Return the class of items whose text attributes are similar to the given text.\n",
    "* **Clustering**: Cluster items whose text attributes are similar to the given text.\n",
    "* **Outlier Detection**: Return items where text attributes are least related to the given text.\n",
    "\n",
    "Please refer to the [text embedding model documentation](https://cloud.google.com/vertex-ai/docs/generative-ai/embeddings/get-text-embeddings) for more information."
   ]
  },
  {
   "cell_type": "code",
   "execution_count": 73,
   "metadata": {
    "id": "f0f175d5b02a",
    "tags": []
   },
   "outputs": [
    {
     "name": "stdout",
     "output_type": "stream",
     "text": [
      "Length = 768\n",
      "[0.00636137742549181, -0.03568779304623604, -0.008960321545600891, -0.018767524510622025, 0.0029407970141619444, -0.004304918926209211, 0.012307404540479183, -0.01088041067123413, -0.015757465735077858, 0.004514819476753473, 0.00018592458218336105, -0.0005022279219701886, 0.03946187347173691, -0.057376567274332047, -0.005378272384405136, -0.025358548387885094, 0.02226519025862217, 0.0296480655670166, 0.010766807943582535, -0.010377309285104275, -0.03906983137130737, 0.00872692558914423, 0.011125827208161354, 0.009685189463198185, 0.010766196995973587, -0.005826377775520086, 0.02379467338323593, -0.08784922957420349, -0.025420373305678368, 0.07672394812107086, -0.06443041563034058, 0.029179487377405167, -0.07116162776947021, 0.01711110956966877, 0.019524971023201942, -0.029929332435131073, 0.06423703581094742, 0.007879945449531078, -0.012391232885420322, -0.00800242554396391, -0.004053068812936544, -0.016466721892356873, -0.07450316846370697, -0.022746969014406204, -0.012133937329053879, 0.008970269933342934, 0.008368419483304024, 0.01831413432955742, -0.0033792511094361544, -0.0834575667977333, 0.006922358646988869, 0.03032124973833561, 0.05627252534031868, -0.022094527259469032, 0.009263045154511929, -0.034276608377695084, 0.0300927571952343, 0.008964421227574348, -0.028607767075300217, -0.012182207778096199, 0.004581342451274395, -0.002493154024705291, -0.024706844240427017, 0.06932702660560608, -0.015425531193614006, 0.00812329351902008, 0.01787211000919342, 0.05259391665458679, 0.030598117038607597, -0.04559829831123352, 0.03444648161530495, -0.015490523539483547, 0.01924506202340126, -0.016384897753596306, -0.02158721163868904, -0.018867352977395058, -0.017264869064092636, 0.02704026736319065, 0.024952370673418045, 0.023844700306653976, 0.015016467310488224, -0.036724016070365906, -0.027941519394516945, -0.03197162598371506, -0.0453839972615242, -0.005449326708912849, -0.039200328290462494, 0.03026081994175911, 0.007281044032424688, 0.08013684302568436, -0.001365230418741703, -0.013894136063754559, 0.04891066625714302, -0.07286377996206284, -0.017423691228032112, 0.037278495728969574, -0.03604714944958687, -0.002324482426047325, 0.046223245561122894, -0.03130031377077103, 0.014969006180763245, -0.07685586810112, -0.014341006055474281, 0.01364770345389843, -0.007914085872471333, -0.008000758476555347, -0.027576709166169167, 0.05649027228355408, 0.01612338051199913, 0.0417545810341835, -0.031029758974909782, -0.0029328761156648397, -0.018048977479338646, 0.004917250480502844, 0.044780928641557693, 0.015684466809034348, -0.03651951253414154, 0.023924576118588448, 0.00991423986852169, 0.04683377593755722, -0.0013414624845609069, 0.0061030080541968346, 0.08680138736963272, -0.015418680384755135, 0.007856776006519794, 0.017299946397542953, -0.017402280122041702, 0.03329850733280182, 0.047647736966609955, 0.05430775135755539, -0.005777459591627121, -0.03385281190276146, 0.053523968905210495, 0.03249615803360939, 0.06290045380592346, 0.09784059971570969, 0.025815267115831375, 0.024851970374584198, 0.06103486940264702, 0.05518098920583725, -0.027943456545472145, 0.024461016058921814, 0.0023593991063535213, 0.027930498123168945, -0.031745441257953644, 0.04992160573601723, -0.058270759880542755, -0.09036742150783539, 0.028760813176631927, -0.01880517601966858, -0.007021049037575722, -0.02813323400914669, -0.0611661896109581, 0.01737181656062603, 0.11263947933912277, 0.0035225183237344027, -0.016649071127176285, 0.07408837229013443, -0.008559618145227432, -0.0041313315741717815, 0.06148730590939522, 0.05848757550120354, 0.02525246888399124, 0.02868441306054592, -0.01207989826798439, 0.011105416342616081, 0.014420943334698677, -0.05797329545021057, 0.0014113568468019366, 0.01367241982370615, -0.021855123341083527, 0.020244108512997627, -0.04757818579673767, -0.04644063487648964, -0.013101844117045403, -0.052828796207904816, 0.036337584257125854, -0.0035747536458075047, -0.035799361765384674, -0.020849835127592087, -0.04436470940709114, 0.010584588162600994, -0.012361178174614906, -0.005676799453794956, 0.01236338447779417, 0.014184779487550259, 0.04831076040863991, -0.05217670276761055, -0.01999964751303196, -0.027740132063627243, -0.0007902971701696515, -0.05033976957201958, -0.009918776340782642, 0.008753236383199692, 0.007243630941957235, 0.038699109107255936, -0.0050211623311042786, 0.02078166790306568, 0.02043434977531433, -0.010503523983061314, -0.005575978197157383, 0.09097549319267273, 0.031000742688775063, -0.02091035433113575, 0.048124853521585464, -0.033809542655944824, 0.032190751284360886, -0.062019579112529755, 0.0025539903435856104, 0.051864154636859894, -0.04442727565765381, -0.02589685469865799, 0.006483495235443115, 0.03739184886217117, 0.04241662472486496, -0.01271749846637249, 0.018281450495123863, 0.032973967492580414, -0.028092017397284508, -0.09129481017589569, -0.010750898160040379, 0.017868172377347946, -0.03399243205785751, 0.017419539391994476, -0.011697287671267986, 0.03996651992201805, -0.005505107343196869, 0.04675014689564705, 0.03099699690937996, -0.06477030366659164, -0.05130155384540558, 0.07928626984357834, 0.022574059665203094, -0.03978460654616356, 0.04815847799181938, -0.0257702749222517, 0.004641854204237461, 0.02667819894850254, -0.015725454315543175, 0.050766341388225555, -0.025047719478607178, 0.044884681701660156, 0.037725962698459625, 0.050308872014284134, -0.060512132942676544, -0.007403908763080835, -0.0054636793211102486, 0.02603396587073803, -0.02424977906048298, 0.018099406734108925, -0.0027514405082911253, -0.04844333231449127, -0.003046272788196802, 0.07507209479808807, -0.047468509525060654, 0.05062495172023773, -0.046863507479429245, -0.03487497195601463, -0.0061109247617423534, 0.035013943910598755, 0.06987355649471283, 0.007354459259659052, 0.0334368534386158, 0.016443176195025444, -0.04821287840604782, -0.007495414465665817, 0.030096398666501045, -0.010383673943579197, -0.006017846520990133, 0.005630610045045614, 0.015544935129582882, -0.006006360519677401, 0.06269482523202896, -0.03963502123951912, -0.05592446029186249, -0.004770205356180668, -0.00623364420607686, 0.026181751862168312, 0.02850337140262127, -0.05263819918036461, 0.041551943868398666, 0.04068644344806671, -0.012480263598263264, -0.009589060209691525, -0.03581635281443596, 0.006438985466957092, -0.050231341272592545, 0.018851617351174355, -0.025555811822414398, -0.030515190213918686, -0.014264257624745369, -0.0018847811734303832, -0.0007457779138348997, -0.01095780823379755, -0.06168000027537346, 0.0010451377602294087, -0.03626154735684395, 0.06378831714391708, 0.050994619727134705, 0.02653823047876358, -0.009799221530556679, 0.007494094781577587, -0.0008670625393278897, -0.06129397451877594, 0.0017758326139301062, 0.007547232788056135, 0.017413463443517685, -0.03949487954378128, -0.00048710955888964236, 0.01802261546254158, -0.020230768248438835, -0.006398406345397234, -0.04807759448885918, 0.05272504314780235, 0.030483808368444443, 0.029026135802268982, -0.009986945427954197, 0.03419322893023491, 0.00489820959046483, 0.044596657156944275, 0.02773619443178177, 0.09376715868711472, 0.017605487257242203, 0.00936128944158554, 0.013655231334269047, -0.010978830978274345, -0.013061586767435074, 0.07703979313373566, 0.0001536075578769669, -0.008674423210322857, -0.02834428660571575, -0.05746477469801903, -0.03978995606303215, 0.018260052427649498, 0.05377049371600151, 0.021672744303941727, -0.017794771119952202, 0.05032892897725105, -0.0337534137070179, 0.00028170764562673867, 0.041577741503715515, -0.011439770460128784, 0.01374146156013012, -0.05894389748573303, 0.0011281035840511322, -0.031309425830841064, -0.06365306675434113, 0.0306928139179945, 0.040568482130765915, -0.003576643066480756, 0.029841545969247818, 0.04571807011961937, -0.0006614821613766253, 0.019312659278512, 0.02851763740181923, -0.06606011837720871, 0.030406437814235687, -0.0010643977439031005, 0.06464175134897232, -0.06321518123149872, -0.03992437198758125, 0.08883427828550339, 0.006179413758218288, -0.02565189078450203, 0.00639769434928894, 0.01315811276435852, -0.0013264057924970984, 0.013958461582660675, -0.05346344783902168, 0.01530625019222498, -0.017233720049262047, -0.05014853924512863, 0.028925931081175804, -0.01627505198121071, -0.018270423635840416, -0.024907829239964485, -0.030858278274536133, -0.014953435398638248, 0.038202688097953796, -0.008601494133472443, -0.06385482102632523, -0.012816566973924637, 0.05304515361785889, 0.00444745784625411, 0.04231393709778786, -0.03905791789293289, 0.006642544642090797, 0.042315300554037094, 0.027027085423469543, 0.029689915478229523, 0.03183181583881378, -0.013068408705294132, 0.03771017864346504, 0.05333998426795006, 0.027197066694498062, 0.04710833355784416, 0.0007012822898104787, -0.06513014435768127, 0.01859368570148945, -0.023092135787010193, -0.013780517503619194, -0.02332068234682083, -0.018506815657019615, -0.009178433567285538, -0.03567541018128395, -0.05410393327474594, -0.01647457852959633, 0.003217746037989855, 0.007890664972364902, 0.0029017694760113955, 0.02371109463274479, 0.0030285348184406757, 0.011465466581285, -0.08080349862575531, 0.0001362274488201365, -0.016647864133119583, 0.04192666709423065, -0.009632561355829239, 0.014663279056549072, 0.027460839599370956, 0.019676905125379562, 0.02567947655916214, 0.0062698666006326675, 0.022784771397709846, -0.030297448858618736, -0.03839319571852684, -0.03105197288095951, -0.047291841357946396, 0.006273932754993439, -0.01685994677245617, 0.08203659951686859, 0.04659100994467735, 0.04085639491677284, 0.026757892221212387, 0.005408937577158213, -0.0920320451259613, 0.013235942460596561, 0.027134224772453308, -0.04089314490556717, 0.001584811951033771, 0.009464873932301998, -0.02232830971479416, 0.07689937204122543, -0.011142724193632603, -0.08637063205242157, -0.004432042594999075, -0.006226480472832918, -0.028251852840185165, 0.021310314536094666, -0.10095442086458206, 0.04061740264296532, -0.06155668571591377, -0.006155448034405708, -0.07001160085201263, -0.05510975793004036, -0.03473367169499397, 0.01870569959282875, 0.054802458733320236, -0.02224866673350334, -0.03348163515329361, -0.0249433945864439, 0.00909329578280449, -0.055087387561798096, -0.06585802137851715, 0.02122626267373562, -0.0162827018648386, 0.0529276467859745, 0.04004102200269699, 0.07553127408027649, 0.02399643138051033, 0.0034963334910571575, -0.05448847636580467, 0.07756485790014267, 0.01854667253792286, -0.014986008405685425, -0.007858931086957455, -0.04539768025279045, -0.007504678796976805, -0.02944832481443882, -5.636415153276175e-06, 0.006391096394509077, 0.0023630978539586067, 0.028317701071500778, 0.055131908506155014, -0.0029599019326269627, 0.030724527314305305, 0.028224622830748558, -0.015027305111289024, -0.022898755967617035, 0.06156894937157631, -0.029233738780021667, -0.025717739015817642, -0.012142750434577465, -0.04353221505880356, -0.013037843629717827, -0.0017888849833980203, -0.01677577570080757, 0.01582419127225876, -0.02828242816030979, 0.017101140692830086, -0.02139834128320217, -0.045616865158081055, -0.02653755620121956, -0.00155356852337718, 0.05569479614496231, -0.08498944342136383, 0.0559866689145565, 0.011592326685786247, -0.010206206701695919, 0.02522716484963894, -0.02742108330130577, -0.0038528130389750004, -0.01129131019115448, 0.006658314261585474, 0.05699755996465683, 0.032049618661403656, -0.005692721344530582, 0.021674294024705887, 0.03728786110877991, -0.019370505586266518, 0.071089006960392, -0.009696358814835548, -0.07448016852140427, -0.027182184159755707, -0.018566178157925606, -0.035530343651771545, 0.004749534651637077, 0.045272186398506165, -0.04266908019781113, 0.02230905368924141, -0.055593762546777725, 0.04308917000889778, -0.0983523353934288, -0.013768715783953667, -0.009043865837156773, -0.02929355762898922, -0.0029788671527057886, 0.014473725110292435, 0.058896906673908234, 0.005072767846286297, 0.005907769780606031, -0.011058163829147816, 0.034948259592056274, 0.05368500575423241, 0.00676538934931159, 0.03769547492265701, 0.005356185603886843, -0.09115506708621979, 0.026085298508405685, 0.028010960668325424, -0.07491760700941086, -0.010785956867039204, -0.006707816384732723, -0.0075974855571985245, 0.0054344418458640575, 0.026828067377209663, -0.03540091961622238, -0.0029772790148854256, 0.03669177368283272, 0.008508498780429363, 0.016603980213403702, -0.027566976845264435, -0.005649843718856573, -0.027911920100450516, 0.11333858221769333, 0.04085233807563782, -0.019784927368164062, 0.01203809306025505, 0.07473684847354889, -0.02589425817131996, -0.005462399683892727, 0.028327522799372673, 0.05271300673484802, -0.0031504707876592875, 0.026325402781367302, -0.03268718346953392, -0.04184845834970474, -0.003511707065626979, -0.026106148958206177, -0.004816160071641207, 0.041320350021123886, 0.04108419641852379, -0.008441280573606491, 0.042248863726854324, -0.01312304101884365, 0.04383605718612671, 0.016852479428052902, 0.010589939542114735, 0.05548661947250366, 0.02930290810763836, -0.07078199833631516, -0.0016884211217984557, 0.0040550390258431435, 0.018920637667179108, -0.01221321802586317, -0.028938427567481995, -0.0031183373648673296, -0.03252416476607323, -0.014931928366422653, -0.04346948862075806, -0.010107198730111122, -0.06704270094633102, 0.07240082323551178, -0.05907159671187401, 0.012476221658289433, 0.0327615886926651, 0.010350054129958153, 0.01727454550564289, -0.0028007018845528364, 0.049167606979608536, -0.0024716705083847046, -0.03306988626718521, -0.005295365117490292, -0.023845497518777847, -0.025744827464222908, -0.05691944807767868, 0.02878681942820549, 0.016408449038863182, -0.008886591531336308, -0.058556586503982544, 0.002153754234313965, -0.04398314654827118, -0.028528835624456406, 0.006457381881773472, 0.06243034824728966, 0.0018223170191049576, -0.027970489114522934, -0.06577442586421967, 0.0049690427258610725, 0.032232291996479034, 0.04580266401171684, 0.054685354232788086, 0.022745292633771896, -0.0086289057508111, -0.04364951699972153, 0.002965615363791585, 0.001971004530787468, 0.002732513239607215, 0.030422048643231392, -0.006248519755899906, -0.0553073026239872, 0.0012338754022493958, 0.01878860779106617, 0.006395366974174976, -0.021251991391181946, 0.10072679072618484, 0.02597208507359028, -0.045902784913778305, -8.989174966700375e-05, 0.0015905344625934958, -0.020990939810872078, -0.00184079899918288, 0.010047410614788532, -0.03136969357728958, 0.008240125142037868, 0.003121059387922287, -0.0025809963699430227, -0.02315468154847622, -0.006457225885242224, 0.0286319088190794, -0.041373394429683685, -0.03133873641490936, 0.03564634546637535, -0.05443156883120537, -0.015265870839357376, -0.006335730664432049, -0.04514098912477493, -0.035073284059762955, 0.001980119850486517, 0.03928854689002037, -0.03614933043718338, 0.02717655524611473, 0.06468968093395233, 0.005371293053030968, 0.012561450712382793, 0.07081815600395203, -0.07665292173624039, 0.015075965784490108, -0.004867773503065109, 0.025437066331505775, 0.019069166854023933, -0.02664988487958908, -0.022255929186940193, -0.007974720560014248, 0.047354232519865036, -0.01116193551570177, 0.011839032173156738, 0.00029365261434577405, -0.008649575524032116, 0.018256772309541702, -0.0031276463996618986, -0.03565387800335884, -0.014076082035899162, 0.012364604510366917, 0.04458391293883324, -0.002258804626762867, -0.019874349236488342, 0.046653006225824356, 0.02350466512143612, 0.04184702783823013, -0.02586609125137329, -0.009795653633773327, -0.06473276019096375, -0.02431257627904415, -0.060915227979421616, 0.046235550194978714, -0.015925275161862373, -0.020494015887379646, 0.022336997091770172, 0.06311438977718353, 0.030672024935483932, -0.004570475313812494, -0.0333552211523056, 0.01704448089003563, 0.008593029342591763, -0.06785949319601059, 0.026947075501084328, 0.02258879318833351, -0.011636940762400627, 0.028210705146193504, 0.04799274727702141, -0.03463245928287506, 0.02866465412080288, -0.05446763336658478, -0.05848060920834541, 0.015268600545823574, -0.06603572517633438, 0.005866130348294973, -0.0343126580119133, -0.06617596000432968, 0.05714553967118263, -0.02665894664824009, 0.016917072236537933, 0.008663005195558071, -0.03305460140109062, 0.05460243672132492, -0.02330249920487404, 0.043014250695705414, 0.009989474900066853, -0.07222779840230942, -0.006411900278180838, -0.00296597508713603, 0.033433862030506134, 0.11538470536470413, 0.012049487791955471, -0.021789416670799255, 0.015433053486049175, -0.03986736387014389, 0.017848514020442963, -0.0012584051582962275, -0.04129420965909958, -0.04317924752831459, 0.023444779217243195, 0.011859532445669174, 0.03922414407134056, -0.01266234926879406, -0.015341856516897678, 0.0012280091177672148, -0.018056051805615425, 0.0391373485326767, -0.05106193572282791, -0.006861667614430189, -0.004968688823282719, 0.020918577909469604, 0.023683695122599602, -0.00909341499209404, 0.021212726831436157, 0.0056648943573236465]\n"
     ]
    }
   ],
   "source": [
    "embedding_model = TextEmbeddingModel.from_pretrained(\"textembedding-gecko\")\n",
    "\n",
    "embeddings = embedding_model.get_embeddings([\"What is life?\"])\n",
    "\n",
    "for embedding in embeddings:\n",
    "    vector = embedding.values\n",
    "    print(f\"Length = {len(vector)}\")\n",
    "    print(vector)"
   ]
  },
  {
   "cell_type": "markdown",
   "metadata": {
    "id": "601bd7e7ef1d"
   },
   "source": [
    "#### Embeddings and Pandas DataFrames"
   ]
  },
  {
   "cell_type": "markdown",
   "metadata": {
    "id": "9e69d2ba877f"
   },
   "source": [
    "If your text is stored in a column of a DataFrame, you can create a new column with the embeddings with the example below."
   ]
  },
  {
   "cell_type": "code",
   "execution_count": 74,
   "metadata": {
    "id": "d99f08bab254",
    "tags": []
   },
   "outputs": [
    {
     "data": {
      "text/html": [
       "<div>\n",
       "<style scoped>\n",
       "    .dataframe tbody tr th:only-of-type {\n",
       "        vertical-align: middle;\n",
       "    }\n",
       "\n",
       "    .dataframe tbody tr th {\n",
       "        vertical-align: top;\n",
       "    }\n",
       "\n",
       "    .dataframe thead th {\n",
       "        text-align: right;\n",
       "    }\n",
       "</style>\n",
       "<table border=\"1\" class=\"dataframe\">\n",
       "  <thead>\n",
       "    <tr style=\"text-align: right;\">\n",
       "      <th></th>\n",
       "      <th>text</th>\n",
       "    </tr>\n",
       "  </thead>\n",
       "  <tbody>\n",
       "    <tr>\n",
       "      <th>0</th>\n",
       "      <td>i really enjoyed the movie last night</td>\n",
       "    </tr>\n",
       "    <tr>\n",
       "      <th>1</th>\n",
       "      <td>so many amazing cinematic scenes yesterday</td>\n",
       "    </tr>\n",
       "    <tr>\n",
       "      <th>2</th>\n",
       "      <td>had a great time writing my Python scripts a f...</td>\n",
       "    </tr>\n",
       "    <tr>\n",
       "      <th>3</th>\n",
       "      <td>huge sense of relief when my .py script finall...</td>\n",
       "    </tr>\n",
       "    <tr>\n",
       "      <th>4</th>\n",
       "      <td>O Romeo, Romeo, wherefore art thou Romeo?</td>\n",
       "    </tr>\n",
       "  </tbody>\n",
       "</table>\n",
       "</div>"
      ],
      "text/plain": [
       "                                                text\n",
       "0              i really enjoyed the movie last night\n",
       "1         so many amazing cinematic scenes yesterday\n",
       "2  had a great time writing my Python scripts a f...\n",
       "3  huge sense of relief when my .py script finall...\n",
       "4          O Romeo, Romeo, wherefore art thou Romeo?"
      ]
     },
     "execution_count": 74,
     "metadata": {},
     "output_type": "execute_result"
    }
   ],
   "source": [
    "text = [\n",
    "    \"i really enjoyed the movie last night\",\n",
    "    \"so many amazing cinematic scenes yesterday\",\n",
    "    \"had a great time writing my Python scripts a few days ago\",\n",
    "    \"huge sense of relief when my .py script finally ran without error\",\n",
    "    \"O Romeo, Romeo, wherefore art thou Romeo?\",\n",
    "]\n",
    "\n",
    "df = pd.DataFrame(text, columns=[\"text\"])\n",
    "df"
   ]
  },
  {
   "cell_type": "markdown",
   "metadata": {
    "id": "fabd92d8ddb6"
   },
   "source": [
    "Create a new column, `embeddings`, using the [apply](https://pandas.pydata.org/docs/reference/api/pandas.DataFrame.apply.html) function in pandas with the embeddings model."
   ]
  },
  {
   "cell_type": "code",
   "execution_count": 75,
   "metadata": {
    "tags": []
   },
   "outputs": [
    {
     "data": {
      "text/html": [
       "<div>\n",
       "<style scoped>\n",
       "    .dataframe tbody tr th:only-of-type {\n",
       "        vertical-align: middle;\n",
       "    }\n",
       "\n",
       "    .dataframe tbody tr th {\n",
       "        vertical-align: top;\n",
       "    }\n",
       "\n",
       "    .dataframe thead th {\n",
       "        text-align: right;\n",
       "    }\n",
       "</style>\n",
       "<table border=\"1\" class=\"dataframe\">\n",
       "  <thead>\n",
       "    <tr style=\"text-align: right;\">\n",
       "      <th></th>\n",
       "      <th>text</th>\n",
       "    </tr>\n",
       "  </thead>\n",
       "  <tbody>\n",
       "    <tr>\n",
       "      <th>0</th>\n",
       "      <td>i really enjoyed the movie last night</td>\n",
       "    </tr>\n",
       "    <tr>\n",
       "      <th>1</th>\n",
       "      <td>so many amazing cinematic scenes yesterday</td>\n",
       "    </tr>\n",
       "    <tr>\n",
       "      <th>2</th>\n",
       "      <td>had a great time writing my Python scripts a f...</td>\n",
       "    </tr>\n",
       "    <tr>\n",
       "      <th>3</th>\n",
       "      <td>huge sense of relief when my .py script finall...</td>\n",
       "    </tr>\n",
       "    <tr>\n",
       "      <th>4</th>\n",
       "      <td>O Romeo, Romeo, wherefore art thou Romeo?</td>\n",
       "    </tr>\n",
       "  </tbody>\n",
       "</table>\n",
       "</div>"
      ],
      "text/plain": [
       "                                                text\n",
       "0              i really enjoyed the movie last night\n",
       "1         so many amazing cinematic scenes yesterday\n",
       "2  had a great time writing my Python scripts a f...\n",
       "3  huge sense of relief when my .py script finall...\n",
       "4          O Romeo, Romeo, wherefore art thou Romeo?"
      ]
     },
     "execution_count": 75,
     "metadata": {},
     "output_type": "execute_result"
    }
   ],
   "source": [
    "df"
   ]
  },
  {
   "cell_type": "code",
   "execution_count": 76,
   "metadata": {
    "id": "096cbf3f2698",
    "tags": []
   },
   "outputs": [
    {
     "data": {
      "text/html": [
       "<div>\n",
       "<style scoped>\n",
       "    .dataframe tbody tr th:only-of-type {\n",
       "        vertical-align: middle;\n",
       "    }\n",
       "\n",
       "    .dataframe tbody tr th {\n",
       "        vertical-align: top;\n",
       "    }\n",
       "\n",
       "    .dataframe thead th {\n",
       "        text-align: right;\n",
       "    }\n",
       "</style>\n",
       "<table border=\"1\" class=\"dataframe\">\n",
       "  <thead>\n",
       "    <tr style=\"text-align: right;\">\n",
       "      <th></th>\n",
       "      <th>text</th>\n",
       "      <th>embeddings</th>\n",
       "    </tr>\n",
       "  </thead>\n",
       "  <tbody>\n",
       "    <tr>\n",
       "      <th>0</th>\n",
       "      <td>i really enjoyed the movie last night</td>\n",
       "      <td>[-0.01591409742832184, 0.022704610601067543, -...</td>\n",
       "    </tr>\n",
       "    <tr>\n",
       "      <th>1</th>\n",
       "      <td>so many amazing cinematic scenes yesterday</td>\n",
       "      <td>[-0.012621072120964527, 0.0068139731884002686,...</td>\n",
       "    </tr>\n",
       "    <tr>\n",
       "      <th>2</th>\n",
       "      <td>had a great time writing my Python scripts a f...</td>\n",
       "      <td>[-0.018473712727427483, -0.0069047571159899235...</td>\n",
       "    </tr>\n",
       "    <tr>\n",
       "      <th>3</th>\n",
       "      <td>huge sense of relief when my .py script finall...</td>\n",
       "      <td>[0.003863031044602394, -0.03098081611096859, -...</td>\n",
       "    </tr>\n",
       "    <tr>\n",
       "      <th>4</th>\n",
       "      <td>O Romeo, Romeo, wherefore art thou Romeo?</td>\n",
       "      <td>[0.014724663458764553, -0.04504365846514702, -...</td>\n",
       "    </tr>\n",
       "  </tbody>\n",
       "</table>\n",
       "</div>"
      ],
      "text/plain": [
       "                                                text  \\\n",
       "0              i really enjoyed the movie last night   \n",
       "1         so many amazing cinematic scenes yesterday   \n",
       "2  had a great time writing my Python scripts a f...   \n",
       "3  huge sense of relief when my .py script finall...   \n",
       "4          O Romeo, Romeo, wherefore art thou Romeo?   \n",
       "\n",
       "                                          embeddings  \n",
       "0  [-0.01591409742832184, 0.022704610601067543, -...  \n",
       "1  [-0.012621072120964527, 0.0068139731884002686,...  \n",
       "2  [-0.018473712727427483, -0.0069047571159899235...  \n",
       "3  [0.003863031044602394, -0.03098081611096859, -...  \n",
       "4  [0.014724663458764553, -0.04504365846514702, -...  "
      ]
     },
     "execution_count": 76,
     "metadata": {},
     "output_type": "execute_result"
    }
   ],
   "source": [
    "df[\"embeddings\"] = df.apply(\n",
    "    lambda x: embedding_model.get_embeddings([x.text])[0].values, axis=1\n",
    ")\n",
    "df"
   ]
  },
  {
   "cell_type": "markdown",
   "metadata": {
    "id": "69ebe1a6514d"
   },
   "source": [
    "#### Comparing similarity of text examples using cosine similarity"
   ]
  },
  {
   "cell_type": "markdown",
   "metadata": {
    "id": "04d0f13acedb"
   },
   "source": [
    "By converting text into embeddings, you can compute similarity scores. There are many ways to compute similarity scores, and one common technique is using [cosine similarity](https://en.wikipedia.org/wiki/Cosine_similarity).\n",
    "\n",
    "In the example from above, two of the sentences in the `text` column relate to enjoying a _movie_, and the other two relates to enjoying _coding_. Cosine similarity scores should be higher (closer to 1.0) when doing pairwise comparisons between semantically-related sentences, and scores should be lower between semantically-different sentences.\n",
    "\n",
    "The DataFrame output below shows the resulting cosine similarity scores between the embeddings:"
   ]
  },
  {
   "cell_type": "code",
   "execution_count": 77,
   "metadata": {
    "id": "dc499dae438a",
    "tags": []
   },
   "outputs": [
    {
     "data": {
      "text/html": [
       "<div>\n",
       "<style scoped>\n",
       "    .dataframe tbody tr th:only-of-type {\n",
       "        vertical-align: middle;\n",
       "    }\n",
       "\n",
       "    .dataframe tbody tr th {\n",
       "        vertical-align: top;\n",
       "    }\n",
       "\n",
       "    .dataframe thead th {\n",
       "        text-align: right;\n",
       "    }\n",
       "</style>\n",
       "<table border=\"1\" class=\"dataframe\">\n",
       "  <thead>\n",
       "    <tr style=\"text-align: right;\">\n",
       "      <th></th>\n",
       "      <th>i really enjoyed the movie last night</th>\n",
       "      <th>so many amazing cinematic scenes yesterday</th>\n",
       "      <th>had a great time writing my Python scripts a few days ago</th>\n",
       "      <th>huge sense of relief when my .py script finally ran without error</th>\n",
       "      <th>O Romeo, Romeo, wherefore art thou Romeo?</th>\n",
       "    </tr>\n",
       "  </thead>\n",
       "  <tbody>\n",
       "    <tr>\n",
       "      <th>i really enjoyed the movie last night</th>\n",
       "      <td>1.000000</td>\n",
       "      <td>0.729769</td>\n",
       "      <td>0.695760</td>\n",
       "      <td>0.562088</td>\n",
       "      <td>0.526357</td>\n",
       "    </tr>\n",
       "    <tr>\n",
       "      <th>so many amazing cinematic scenes yesterday</th>\n",
       "      <td>0.729769</td>\n",
       "      <td>1.000000</td>\n",
       "      <td>0.639297</td>\n",
       "      <td>0.573032</td>\n",
       "      <td>0.511450</td>\n",
       "    </tr>\n",
       "    <tr>\n",
       "      <th>had a great time writing my Python scripts a few days ago</th>\n",
       "      <td>0.695760</td>\n",
       "      <td>0.639297</td>\n",
       "      <td>1.000000</td>\n",
       "      <td>0.769378</td>\n",
       "      <td>0.454656</td>\n",
       "    </tr>\n",
       "    <tr>\n",
       "      <th>huge sense of relief when my .py script finally ran without error</th>\n",
       "      <td>0.562088</td>\n",
       "      <td>0.573032</td>\n",
       "      <td>0.769378</td>\n",
       "      <td>1.000000</td>\n",
       "      <td>0.446793</td>\n",
       "    </tr>\n",
       "    <tr>\n",
       "      <th>O Romeo, Romeo, wherefore art thou Romeo?</th>\n",
       "      <td>0.526357</td>\n",
       "      <td>0.511450</td>\n",
       "      <td>0.454656</td>\n",
       "      <td>0.446793</td>\n",
       "      <td>1.000000</td>\n",
       "    </tr>\n",
       "  </tbody>\n",
       "</table>\n",
       "</div>"
      ],
      "text/plain": [
       "                                                    i really enjoyed the movie last night  \\\n",
       "i really enjoyed the movie last night                                            1.000000   \n",
       "so many amazing cinematic scenes yesterday                                       0.729769   \n",
       "had a great time writing my Python scripts a fe...                               0.695760   \n",
       "huge sense of relief when my .py script finally...                               0.562088   \n",
       "O Romeo, Romeo, wherefore art thou Romeo?                                        0.526357   \n",
       "\n",
       "                                                    so many amazing cinematic scenes yesterday  \\\n",
       "i really enjoyed the movie last night                                                 0.729769   \n",
       "so many amazing cinematic scenes yesterday                                            1.000000   \n",
       "had a great time writing my Python scripts a fe...                                    0.639297   \n",
       "huge sense of relief when my .py script finally...                                    0.573032   \n",
       "O Romeo, Romeo, wherefore art thou Romeo?                                             0.511450   \n",
       "\n",
       "                                                    had a great time writing my Python scripts a few days ago  \\\n",
       "i really enjoyed the movie last night                                                        0.695760           \n",
       "so many amazing cinematic scenes yesterday                                                   0.639297           \n",
       "had a great time writing my Python scripts a fe...                                           1.000000           \n",
       "huge sense of relief when my .py script finally...                                           0.769378           \n",
       "O Romeo, Romeo, wherefore art thou Romeo?                                                    0.454656           \n",
       "\n",
       "                                                    huge sense of relief when my .py script finally ran without error  \\\n",
       "i really enjoyed the movie last night                                                        0.562088                   \n",
       "so many amazing cinematic scenes yesterday                                                   0.573032                   \n",
       "had a great time writing my Python scripts a fe...                                           0.769378                   \n",
       "huge sense of relief when my .py script finally...                                           1.000000                   \n",
       "O Romeo, Romeo, wherefore art thou Romeo?                                                    0.446793                   \n",
       "\n",
       "                                                    O Romeo, Romeo, wherefore art thou Romeo?  \n",
       "i really enjoyed the movie last night                                                0.526357  \n",
       "so many amazing cinematic scenes yesterday                                           0.511450  \n",
       "had a great time writing my Python scripts a fe...                                   0.454656  \n",
       "huge sense of relief when my .py script finally...                                   0.446793  \n",
       "O Romeo, Romeo, wherefore art thou Romeo?                                            1.000000  "
      ]
     },
     "execution_count": 77,
     "metadata": {},
     "output_type": "execute_result"
    }
   ],
   "source": [
    "cos_sim_array = cosine_similarity(list(df.embeddings.values))\n",
    "\n",
    "# display as DataFrame\n",
    "df = pd.DataFrame(cos_sim_array, index=text, columns=text)\n",
    "df"
   ]
  },
  {
   "cell_type": "markdown",
   "metadata": {
    "id": "97a5e2e32df5"
   },
   "source": [
    "To make this easier to understand, you can use a heatmap. Naturally, text is most similar when they are identical (score of 1.0). The next highest scores are when sentences are semantically similar. The lowest scores are when sentences are quite different in meaning."
   ]
  },
  {
   "cell_type": "code",
   "execution_count": 78,
   "metadata": {
    "id": "560ea2a11535",
    "tags": []
   },
   "outputs": [
    {
     "data": {
      "text/plain": [
       "[Text(0.5, 1, 'i really enjoyed the movie last night'),\n",
       " Text(1.5, 1, 'so many amazing cinematic scenes yesterday'),\n",
       " Text(2.5, 1, 'had a great time writing my Python scripts a few days ago'),\n",
       " Text(3.5, 1, 'huge sense of relief when my .py script finally ran without error'),\n",
       " Text(4.5, 1, 'O Romeo, Romeo, wherefore art thou Romeo?')]"
      ]
     },
     "execution_count": 78,
     "metadata": {},
     "output_type": "execute_result"
    },
    {
     "data": {
      "image/png": "[encoded data removed]",
      "text/plain": [
       "<Figure size 640x480 with 2 Axes>"
      ]
     },
     "metadata": {},
     "output_type": "display_data"
    }
   ],
   "source": [
    "ax = sns.heatmap(df, annot=True, cmap=\"crest\")\n",
    "ax.xaxis.tick_top()\n",
    "ax.set_xticklabels(text, rotation=90)"
   ]
  },
  {
   "cell_type": "markdown",
   "metadata": {
    "id": "5B1PlCAr3GQi"
   },
   "source": [
    "## Code generation with code-bison"
   ]
  },
  {
   "cell_type": "markdown",
   "metadata": {
    "id": "wzoNuCqd3pbn"
   },
   "source": [
    "\n",
    "The code generation model (Codey) from PaLM API that you will use in this notebook is code-bison. It is fine-tuned to follow natural language instructions to generate required code and is suitable for a variety of coding tasks, such as:\n",
    "\n",
    "- writing functions\n",
    "- writing classes\n",
    "- web-pages\n",
    "- unit tests\n",
    "- docstrings\n",
    "- code translations, and many more use-cases.\n",
    "\n",
    "Currently it supports the following languages:\n",
    "- C++\n",
    "- C#\n",
    "- Go\n",
    "- GoogleSQL\n",
    "- Java\n",
    "- JavaScript\n",
    "- Kotlin\n",
    "- PHP\n",
    "- Python\n",
    "- Ruby\n",
    "- Rust\n",
    "- Scala\n",
    "- Swift\n",
    "- TypeScript\n",
    "\n",
    "You can find our more details [here](https://cloud.google.com/vertex-ai/docs/generative-ai/code/code-models-overview)."
   ]
  },
  {
   "cell_type": "markdown",
   "metadata": {
    "id": "H6AzUJLt-ihw"
   },
   "source": [
    "### Load model"
   ]
  },
  {
   "cell_type": "code",
   "execution_count": 79,
   "metadata": {
    "id": "GqGueQgG3pAA",
    "tags": []
   },
   "outputs": [],
   "source": [
    "code_generation_model = CodeGenerationModel.from_pretrained(\"code-bison\")"
   ]
  },
  {
   "cell_type": "markdown",
   "metadata": {
    "id": "qDzu2A0k_YYL"
   },
   "source": [
    "### Model parameters for `code-bison`\n",
    "\n",
    "You can customize how the PaLM API code generation behaves in response to your prompt by using the following parameters for `code-bison`:\n",
    "\n",
    " - `prefix`: it represents the beginning of a piece of meaningful programming code or a natural language prompt that describes code to be generated.\n",
    " - `temperature`: higher means more \"creative\" code responses. range: (0.0 - 1.0, default 0).\n",
    " - `max_output_tokens`: sets the max number of tokens in the output. range: (1 - 2048, default 2048)\n"
   ]
  },
  {
   "cell_type": "markdown",
   "metadata": {
    "id": "WIiZZHJAC0jC"
   },
   "source": [
    "### Hello Codey"
   ]
  },
  {
   "cell_type": "code",
   "execution_count": 80,
   "metadata": {
    "id": "oiywwL1T5grZ",
    "tags": []
   },
   "outputs": [
    {
     "name": "stdout",
     "output_type": "stream",
     "text": [
      "```python\n",
      "def binary_search(arr, target):\n",
      "  \"\"\"\n",
      "  Performs a binary search on a sorted array.\n",
      "\n",
      "  Parameters:\n",
      "    arr: The sorted array to search.\n",
      "    target: The value to search for.\n",
      "\n",
      "  Returns:\n",
      "    The index of the target value in the array, or -1 if the value is not found.\n",
      "  \"\"\"\n",
      "\n",
      "  low = 0\n",
      "  high = len(arr) - 1\n",
      "\n",
      "  while low <= high:\n",
      "    mid = (low + high) // 2\n",
      "    guess = arr[mid]\n",
      "\n",
      "    if guess == target:\n",
      "      return mid\n",
      "    elif guess < target:\n",
      "      low = mid + 1\n",
      "    else:\n",
      "      high = mid - 1\n",
      "\n",
      "  return -1\n",
      "```\n"
     ]
    }
   ],
   "source": [
    "prefix = \"write a python function to do binary search\"\n",
    "\n",
    "response = code_generation_model.predict(prefix=prefix)\n",
    "\n",
    "print(response.text)"
   ]
  },
  {
   "cell_type": "markdown",
   "metadata": {
    "id": "Dai1FtyDDUjX"
   },
   "source": [
    "### Try out your own prompt"
   ]
  },
  {
   "cell_type": "markdown",
   "metadata": {
    "id": "YukcUkJRDZvI"
   },
   "source": [
    "Some examples:\n",
    "* write Go program to extract ip addresses from the text file\n",
    "* write Java program that can extract pin codes from addresses\n",
    "* write a standard SQL function that strips all non-alphabet characters from the string and encodes it to utf-8"
   ]
  },
  {
   "cell_type": "code",
   "execution_count": 81,
   "metadata": {
    "id": "CvKHdTHy6RIi",
    "tags": []
   },
   "outputs": [
    {
     "name": "stdout",
     "output_type": "stream",
     "text": [
      "```python\n",
      "import numpy as np\n",
      "\n",
      "def calculate_cosine_similarity(vector1, vector2):\n",
      "  \"\"\"Calculates the cosine similarity between two vectors.\n",
      "\n",
      "  Args:\n",
      "    vector1: A numpy array representing the first vector.\n",
      "    vector2: A numpy array representing the second vector.\n",
      "\n",
      "  Returns:\n",
      "    A float representing the cosine similarity between the two vectors.\n",
      "  \"\"\"\n",
      "\n",
      "  # Calculate the dot product of the two vectors.\n",
      "  dot_product = np.dot(vector1, vector2)\n",
      "\n",
      "  # Calculate the magnitudes of the two vectors.\n",
      "  magnitude1 = np.linalg.norm(vector1)\n",
      "  magnitude2 = np.linalg.norm(vector2)\n",
      "\n",
      "  # Calculate the cosine similarity.\n",
      "  cosine_similarity = dot_product / (magnitude1 * magnitude2)\n",
      "\n",
      "  return cosine_similarity\n",
      "\n",
      "\n",
      "# Unit tests\n",
      "def test_calculate_cosine_similarity():\n",
      "  \"\"\"Tests the calculate_cosine_similarity function.\"\"\"\n",
      "\n",
      "  # Test case 1: Two identical vectors.\n",
      "  vector1 = np.array([1, 2, 3])\n",
      "  vector2 = np.array([1, 2, 3])\n",
      "  expected_similarity = 1.0\n",
      "  actual_similarity = calculate_cosine_similarity(vector1, vector2)\n",
      "  assert np.isclose(actual_similarity, expected_similarity)\n",
      "\n",
      "  # Test case 2: Two orthogonal vectors.\n",
      "  vector1 = np.array([1, 0, 0])\n",
      "  vector2 = np.array([0, 1, 0])\n",
      "  expected_similarity = 0.0\n",
      "  actual_similarity = calculate_cosine_similarity(vector1, vector2)\n",
      "  assert np.isclose(actual_similarity, expected_similarity)\n",
      "\n",
      "  # Test case 3: Two vectors with different magnitudes.\n",
      "  vector1 = np.array([1, 2, 3])\n",
      "  vector2 = np.array([2, 4, 6])\n",
      "  expected_similarity = 1.0\n",
      "  actual_similarity = calculate_cosine_similarity(vector1, vector2)\n",
      "  assert np.isclose(actual_similarity, expected_similarity)\n",
      "```\n"
     ]
    }
   ],
   "source": [
    "prefix = \"\"\"write a python function named as \"calculate_cosine_similarity\" and three unit \\\n",
    "            tests where it takes two arguments \"vector1\" and \"vector2\". \\\n",
    "            It then uses numpy dot function to calculate the dot product of the two vectors. \\n\n",
    "          \"\"\"\n",
    "\n",
    "response = code_generation_model.predict(prefix=prefix, max_output_tokens=1024)\n",
    "\n",
    "print(response.text)"
   ]
  },
  {
   "cell_type": "markdown",
   "metadata": {
    "id": "iZ0AEuFAEB1N"
   },
   "source": [
    "### Prompt templates"
   ]
  },
  {
   "cell_type": "markdown",
   "metadata": {
    "id": "LpFTrfLnFHBy"
   },
   "source": [
    "Prompt templates are useful if you have found a good way to structure your prompt that you can re-use. This can be also be helpful in limiting the open-endedness of freeform prompts. There are many ways to implement prompt templates, and below is just one example using f-strings. This way you can structure the prompts as per the expected functionality of the code."
   ]
  },
  {
   "cell_type": "code",
   "execution_count": 82,
   "metadata": {
    "id": "gznmqXU067tj",
    "tags": []
   },
   "outputs": [
    {
     "name": "stdout",
     "output_type": "stream",
     "text": [
      "```c++\n",
      "#include <iostream>\n",
      "#include <fstream>\n",
      "#include <string>\n",
      "#include <vector>\n",
      "#include <algorithm>\n",
      "#include <nlohmann/json.hpp>\n",
      "\n",
      "using namespace std;\n",
      "using json = nlohmann::json;\n",
      "\n",
      "vector<string> parse_json_and_extract_names(string json_file_path) {\n",
      "  // Read the JSON file\n",
      "  ifstream json_file(json_file_path);\n",
      "  if (!json_file.is_open()) {\n",
      "    throw runtime_error(\"Could not open JSON file.\");\n",
      "  }\n",
      "  string json_string((istreambuf_iterator<char>(json_file)), istreambuf_iterator<char>());\n",
      "\n",
      "  // Parse the JSON string\n",
      "  json json_data = json::parse(json_string);\n",
      "\n",
      "  // Extract names that start with capital letters\n",
      "  vector<string> names;\n",
      "  for (auto& person : json_data) {\n",
      "    string name = person[\"name\"];\n",
      "    if (name[0] >= 'A' && name[0] <= 'Z') {\n",
      "      names.push_back(name);\n",
      "    }\n",
      "  }\n",
      "\n",
      "  // Remove duplicate names\n",
      "  sort(names.begin(), names.end());\n",
      "  names.erase(unique(names.begin(), names.end()), names.end());\n",
      "\n",
      "  return names;\n",
      "}\n",
      "\n",
      "int main() {\n",
      "  string json_file_path = \"data.json\";\n",
      "  vector<string> names = parse_json_and_extract_names(json_file_path);\n",
      "\n",
      "  // Print the extracted names\n",
      "  for (auto& name : names) {\n",
      "    cout << name << endl;\n",
      "  }\n",
      "\n",
      "  return 0;\n",
      "}\n",
      "```\n"
     ]
    }
   ],
   "source": [
    "language = \"C++ function\"\n",
    "file_format = \"json\"\n",
    "extract_info = \"names\"\n",
    "requirements = \"\"\"\n",
    "              - the name should be start with capital letters.\n",
    "              - There should be no duplicate names in the final list.\n",
    "              \"\"\"\n",
    "\n",
    "prefix = f\"\"\"Create a {language} to parse {file_format} and extract {extract_info} with the following requirements: {requirements}.\n",
    "              \"\"\"\n",
    "\n",
    "response = code_generation_model.predict(prefix=prefix, max_output_tokens=1024)\n",
    "\n",
    "print(response.text)"
   ]
  },
  {
   "cell_type": "markdown",
   "metadata": {
    "id": "TYmU--5p7pTb"
   },
   "source": [
    "## Code completion with `code-gecko`"
   ]
  },
  {
   "cell_type": "markdown",
   "metadata": {
    "id": "3afIjeslHctK"
   },
   "source": [
    "Code completion uses the code-gecko foundation model to generate and complete code based on code being written. `code-gecko` completes code that was recently typed by a user.\n",
    "\n",
    "To learn more about creating prompts for code completion, see [Create prompts for code completion.](https://cloud.google.com/vertex-ai/docs/generative-ai/model-reference/code-completion#:~:text=code%20completion%2C%20see-,Create%20prompts%20for%20code%20completion,-.)"
   ]
  },
  {
   "cell_type": "markdown",
   "metadata": {
    "id": "pQzLgVJtH_FD"
   },
   "source": [
    "Code completion API has few more parameters than code generation.\n",
    "\n",
    "* prefix: *required* : For code models, prefix represents the beginning of a piece of meaningful programming code or a natural language prompt that describes code to be generated.\n",
    "\n",
    "* suffix: *optional* : For code completion, suffix represents the end of a piece of meaningful programming code. The model attempts to fill in the code in between the prefix and suffix.\n",
    "\n",
    "* temperature:  *required* : Temperature controls the degree of randomness in token selection. Same as for other models. range: (0.0 - 1.0, default 0)\n",
    "\n",
    "* maxOutputTokens: *required* : Maximum number of tokens that can be generated in the response. **range: (1 - 64, default 64)**\n",
    "\n",
    "* stopSequences: *optional*  : Specifies a list of strings that tells the model to stop generating text if one of the strings is encountered in the response. The strings are case-sensitive."
   ]
  },
  {
   "cell_type": "code",
   "execution_count": 83,
   "metadata": {
    "id": "2hcmp5JH7x43",
    "tags": []
   },
   "outputs": [],
   "source": [
    "code_completion_model = CodeGenerationModel.from_pretrained(\"code-gecko\")"
   ]
  },
  {
   "cell_type": "code",
   "execution_count": 84,
   "metadata": {
    "id": "Gq-yhdnC8INm",
    "tags": []
   },
   "outputs": [
    {
     "name": "stdout",
     "output_type": "stream",
     "text": [
      "     return string_s.find(x)\n"
     ]
    }
   ],
   "source": [
    "prefix = \"\"\"\n",
    "          def find_x_in_string(string_s, x):\n",
    "         \"\"\"\n",
    "\n",
    "response = code_completion_model.predict(prefix=prefix, max_output_tokens=64)\n",
    "\n",
    "print(response.text)"
   ]
  },
  {
   "cell_type": "code",
   "execution_count": 85,
   "metadata": {
    "id": "UzA2toRG8yoN",
    "tags": []
   },
   "outputs": [
    {
     "name": "stdout",
     "output_type": "stream",
     "text": [
      "   assert reverse_string(\"\") == \"\"\n"
     ]
    }
   ],
   "source": [
    "prefix = \"\"\"\n",
    "         def reverse_string(s):\n",
    "            return s[::-1]\n",
    "         def test_empty_input_string()\n",
    "         \"\"\"\n",
    "\n",
    "response = code_completion_model.predict(prefix=prefix, max_output_tokens=64)\n",
    "\n",
    "print(response.text)"
   ]
  },
  {
   "cell_type": "markdown",
   "metadata": {
    "id": "uWoXuAnn89zQ"
   },
   "source": [
    "## Code chat with `codechat-bison`"
   ]
  },
  {
   "cell_type": "markdown",
   "metadata": {
    "id": "v9Pfs4jWEMOV"
   },
   "source": [
    "The `codechat-bison` model lets you have a freeform conversation across multiple turns from a code context. The application tracks what was previously said in the conversation. As such, if you expect to use conversations in your application for code generation, use the `codechat-bison` model because it has been fine-tuned for multi-turn conversation use cases."
   ]
  },
  {
   "cell_type": "code",
   "execution_count": 86,
   "metadata": {
    "id": "3qmwg9ey9DvN",
    "tags": []
   },
   "outputs": [
    {
     "name": "stdout",
     "output_type": "stream",
     "text": [
      "MultiCandidateTextGenerationResponse(text=' ```python\\ndef min_of_two_numbers(a, b):\\n  \"\"\"Returns the minimum of two numbers.\\n\\n  Args:\\n    a: The first number.\\n    b: The second number.\\n\\n  Returns:\\n    The minimum of the two numbers.\\n  \"\"\"\\n\\n  if a < b:\\n    return a\\n  else:\\n    return b\\n```', _prediction_response=Prediction(predictions=[{'candidates': [{'content': ' ```python\\ndef min_of_two_numbers(a, b):\\n  \"\"\"Returns the minimum of two numbers.\\n\\n  Args:\\n    a: The first number.\\n    b: The second number.\\n\\n  Returns:\\n    The minimum of the two numbers.\\n  \"\"\"\\n\\n  if a < b:\\n    return a\\n  else:\\n    return b\\n```', 'author': '1'}], 'groundingMetadata': [{}], 'citationMetadata': [{'citations': []}], 'safetyAttributes': [{'blocked': False, 'scores': [], 'categories': []}]}], deployed_model_id='', model_version_id='', model_resource_name='', explanations=None), is_blocked=False, safety_attributes={}, grounding_metadata=GroundingMetadata(citations=[], search_queries=[]), candidates=[ ```python\n",
      "def min_of_two_numbers(a, b):\n",
      "  \"\"\"Returns the minimum of two numbers.\n",
      "\n",
      "  Args:\n",
      "    a: The first number.\n",
      "    b: The second number.\n",
      "\n",
      "  Returns:\n",
      "    The minimum of the two numbers.\n",
      "  \"\"\"\n",
      "\n",
      "  if a < b:\n",
      "    return a\n",
      "  else:\n",
      "    return b\n",
      "```])\n"
     ]
    }
   ],
   "source": [
    "code_chat_model = CodeChatModel.from_pretrained(\"codechat-bison\")\n",
    "\n",
    "code_chat = code_chat_model.start_chat()\n",
    "\n",
    "print(\n",
    "    code_chat.send_message(\n",
    "        \"Please help write a function to calculate the min of two numbers\",\n",
    "    )\n",
    ")"
   ]
  },
  {
   "cell_type": "markdown",
   "metadata": {
    "id": "oVS9FtJ7Egdp"
   },
   "source": [
    "As shown below, the model should respond based on what was previously asked in the conversation:"
   ]
  },
  {
   "cell_type": "code",
   "execution_count": 87,
   "metadata": {
    "id": "Xr9gKcOu9sof",
    "tags": []
   },
   "outputs": [
    {
     "name": "stdout",
     "output_type": "stream",
     "text": [
      "MultiCandidateTextGenerationResponse(text=' - The function `min_of_two_numbers` takes two arguments, `a` and `b`, which are expected to be numbers.\\n- It uses an `if` statement to compare the values of `a` and `b`.\\n- If `a` is less than `b`, the function returns the value of `a`.\\n- If `a` is not less than `b`, the function returns the value of `b`.', _prediction_response=Prediction(predictions=[{'candidates': [{'content': ' - The function `min_of_two_numbers` takes two arguments, `a` and `b`, which are expected to be numbers.\\n- It uses an `if` statement to compare the values of `a` and `b`.\\n- If `a` is less than `b`, the function returns the value of `a`.\\n- If `a` is not less than `b`, the function returns the value of `b`.', 'author': 'bot'}], 'groundingMetadata': [{}], 'citationMetadata': [{'citations': []}], 'safetyAttributes': [{'blocked': False, 'scores': [], 'categories': []}]}], deployed_model_id='', model_version_id='', model_resource_name='', explanations=None), is_blocked=False, safety_attributes={}, grounding_metadata=GroundingMetadata(citations=[], search_queries=[]), candidates=[ - The function `min_of_two_numbers` takes two arguments, `a` and `b`, which are expected to be numbers.\n",
      "- It uses an `if` statement to compare the values of `a` and `b`.\n",
      "- If `a` is less than `b`, the function returns the value of `a`.\n",
      "- If `a` is not less than `b`, the function returns the value of `b`.])\n"
     ]
    }
   ],
   "source": [
    "print(\n",
    "    code_chat.send_message(\n",
    "        \"can you explain the code line by line in bullets?\",\n",
    "    )\n",
    ")"
   ]
  },
  {
   "cell_type": "markdown",
   "metadata": {
    "id": "XnjhfcIjEqcl"
   },
   "source": [
    "You can take another example and ask the model to give more general code suggestion for a specific problem that you are working on."
   ]
  },
  {
   "cell_type": "code",
   "execution_count": 88,
   "metadata": {
    "id": "9_ZAiZW2-GD5",
    "tags": []
   },
   "outputs": [
    {
     "name": "stdout",
     "output_type": "stream",
     "text": [
      "MultiCandidateTextGenerationResponse(text=' The most scalable way to traverse a list in Python is to use a generator expression. Generator expressions are more memory-efficient than list comprehensions, and they can be used to create an iterator that can be used to traverse the list without having to store the entire list in memory.\\n\\nFor example, the following code uses a generator expression to traverse a list of numbers and print each number:\\n\\n```python\\nnumbers = [1, 2, 3, 4, 5]\\n\\nfor number in (number for number in numbers):\\n    print(number)\\n```\\n\\nThis code will print the numbers 1, 2, 3, 4, and 5.\\n\\nGenerator expressions can also be used to filter and transform the elements of a list. For example, the following code uses a generator expression to filter the numbers in a list to only include the even numbers:\\n\\n```python\\nnumbers = [1, 2, 3, 4, 5]\\n\\neven_numbers = (number for number in numbers if number % 2 == 0)\\n\\nfor number in even_numbers:\\n    print(number)\\n```\\n\\nThis code will print the numbers 2 and 4.\\n\\nGenerator expressions are a powerful tool that can be used to traverse, filter, and transform lists in a scalable way.', _prediction_response=Prediction(predictions=[{'candidates': [{'content': ' The most scalable way to traverse a list in Python is to use a generator expression. Generator expressions are more memory-efficient than list comprehensions, and they can be used to create an iterator that can be used to traverse the list without having to store the entire list in memory.\\n\\nFor example, the following code uses a generator expression to traverse a list of numbers and print each number:\\n\\n```python\\nnumbers = [1, 2, 3, 4, 5]\\n\\nfor number in (number for number in numbers):\\n    print(number)\\n```\\n\\nThis code will print the numbers 1, 2, 3, 4, and 5.\\n\\nGenerator expressions can also be used to filter and transform the elements of a list. For example, the following code uses a generator expression to filter the numbers in a list to only include the even numbers:\\n\\n```python\\nnumbers = [1, 2, 3, 4, 5]\\n\\neven_numbers = (number for number in numbers if number % 2 == 0)\\n\\nfor number in even_numbers:\\n    print(number)\\n```\\n\\nThis code will print the numbers 2 and 4.\\n\\nGenerator expressions are a powerful tool that can be used to traverse, filter, and transform lists in a scalable way.', 'author': '1'}], 'groundingMetadata': [{}], 'citationMetadata': [{'citations': []}], 'safetyAttributes': [{'blocked': False, 'scores': [], 'categories': []}]}], deployed_model_id='', model_version_id='', model_resource_name='', explanations=None), is_blocked=False, safety_attributes={}, grounding_metadata=GroundingMetadata(citations=[], search_queries=[]), candidates=[ The most scalable way to traverse a list in Python is to use a generator expression. Generator expressions are more memory-efficient than list comprehensions, and they can be used to create an iterator that can be used to traverse the list without having to store the entire list in memory.\n",
      "\n",
      "For example, the following code uses a generator expression to traverse a list of numbers and print each number:\n",
      "\n",
      "```python\n",
      "numbers = [1, 2, 3, 4, 5]\n",
      "\n",
      "for number in (number for number in numbers):\n",
      "    print(number)\n",
      "```\n",
      "\n",
      "This code will print the numbers 1, 2, 3, 4, and 5.\n",
      "\n",
      "Generator expressions can also be used to filter and transform the elements of a list. For example, the following code uses a generator expression to filter the numbers in a list to only include the even numbers:\n",
      "\n",
      "```python\n",
      "numbers = [1, 2, 3, 4, 5]\n",
      "\n",
      "even_numbers = (number for number in numbers if number % 2 == 0)\n",
      "\n",
      "for number in even_numbers:\n",
      "    print(number)\n",
      "```\n",
      "\n",
      "This code will print the numbers 2 and 4.\n",
      "\n",
      "Generator expressions are a powerful tool that can be used to traverse, filter, and transform lists in a scalable way.])\n"
     ]
    }
   ],
   "source": [
    "code_chat = code_chat_model.start_chat()\n",
    "\n",
    "print(\n",
    "    code_chat.send_message(\n",
    "        \"what is the most scalable way to traverse a list in python?\",\n",
    "    )\n",
    ")"
   ]
  },
  {
   "cell_type": "markdown",
   "metadata": {
    "id": "fJFOmy0EE5cB"
   },
   "source": [
    "You can continue to ask follow-up questions to the original query."
   ]
  },
  {
   "cell_type": "code",
   "execution_count": 89,
   "metadata": {
    "id": "QnxwQVUq-OW3",
    "tags": []
   },
   "outputs": [
    {
     "name": "stdout",
     "output_type": "stream",
     "text": [
      "MultiCandidateTextGenerationResponse(text=\" To measure the iterations per second for the given code, you can use the `timeit` module in Python. Here's an example of how you can do it:\\n\\n```python\\nimport timeit\\n\\ndef my_function(n):\\n    # Your code here\\n\\n# Measure the execution time of the function for different values of n\\nn_values = [1000, 10000, 100000, 1000000]\\nfor n in n_values:\\n    time = timeit.timeit('my_function({})'.format(n), number=1000)\\n    iterations_per_second = 1000 / time\\n    print('Iterations per second for n = {}: {}'.format(n, iterations_per_second))\\n```\\n\\nThis code will execute the `my_function` function 1000 times for each value of `n` and then calculate the iterations per second based on the execution time. The results will be printed to the console.\", _prediction_response=Prediction(predictions=[{'candidates': [{'content': \" To measure the iterations per second for the given code, you can use the `timeit` module in Python. Here's an example of how you can do it:\\n\\n```python\\nimport timeit\\n\\ndef my_function(n):\\n    # Your code here\\n\\n# Measure the execution time of the function for different values of n\\nn_values = [1000, 10000, 100000, 1000000]\\nfor n in n_values:\\n    time = timeit.timeit('my_function({})'.format(n), number=1000)\\n    iterations_per_second = 1000 / time\\n    print('Iterations per second for n = {}: {}'.format(n, iterations_per_second))\\n```\\n\\nThis code will execute the `my_function` function 1000 times for each value of `n` and then calculate the iterations per second based on the execution time. The results will be printed to the console.\", 'author': 'bot'}], 'groundingMetadata': [{}], 'citationMetadata': [{'citations': []}], 'safetyAttributes': [{'blocked': False, 'scores': [], 'categories': []}]}], deployed_model_id='', model_version_id='', model_resource_name='', explanations=None), is_blocked=False, safety_attributes={}, grounding_metadata=GroundingMetadata(citations=[], search_queries=[]), candidates=[ To measure the iterations per second for the given code, you can use the `timeit` module in Python. Here's an example of how you can do it:\n",
      "\n",
      "```python\n",
      "import timeit\n",
      "\n",
      "def my_function(n):\n",
      "    # Your code here\n",
      "\n",
      "# Measure the execution time of the function for different values of n\n",
      "n_values = [1000, 10000, 100000, 1000000]\n",
      "for n in n_values:\n",
      "    time = timeit.timeit('my_function({})'.format(n), number=1000)\n",
      "    iterations_per_second = 1000 / time\n",
      "    print('Iterations per second for n = {}: {}'.format(n, iterations_per_second))\n",
      "```\n",
      "\n",
      "This code will execute the `my_function` function 1000 times for each value of `n` and then calculate the iterations per second based on the execution time. The results will be printed to the console.])\n"
     ]
    }
   ],
   "source": [
    "print(\n",
    "    code_chat.send_message(\n",
    "        \"how would i measure the iteration per second for the following code?\",\n",
    "    )\n",
    ")"
   ]
  },
  {
   "cell_type": "code",
   "execution_count": null,
   "metadata": {},
   "outputs": [],
   "source": []
  },
  {
   "cell_type": "code",
   "execution_count": null,
   "metadata": {},
   "outputs": [],
   "source": []
  },
  {
   "cell_type": "code",
   "execution_count": null,
   "metadata": {},
   "outputs": [],
   "source": []
  },
  {
   "cell_type": "code",
   "execution_count": null,
   "metadata": {},
   "outputs": [],
   "source": []
  },
  {
   "cell_type": "code",
   "execution_count": null,
   "metadata": {},
   "outputs": [],
   "source": []
  },
  {
   "cell_type": "code",
   "execution_count": null,
   "metadata": {},
   "outputs": [],
   "source": []
  },
  {
   "cell_type": "code",
   "execution_count": null,
   "metadata": {},
   "outputs": [],
   "source": []
  },
  {
   "cell_type": "code",
   "execution_count": null,
   "metadata": {},
   "outputs": [],
   "source": []
  },
  {
   "cell_type": "code",
   "execution_count": null,
   "metadata": {},
   "outputs": [],
   "source": []
  },
  {
   "cell_type": "code",
   "execution_count": null,
   "metadata": {},
   "outputs": [],
   "source": []
  },
  {
   "cell_type": "code",
   "execution_count": null,
   "metadata": {},
   "outputs": [],
   "source": []
  },
  {
   "cell_type": "code",
   "execution_count": null,
   "metadata": {},
   "outputs": [],
   "source": []
  },
  {
   "cell_type": "code",
   "execution_count": null,
   "metadata": {},
   "outputs": [],
   "source": []
  },
  {
   "cell_type": "code",
   "execution_count": null,
   "metadata": {},
   "outputs": [],
   "source": []
  },
  {
   "cell_type": "code",
   "execution_count": null,
   "metadata": {},
   "outputs": [],
   "source": []
  },
  {
   "cell_type": "code",
   "execution_count": null,
   "metadata": {},
   "outputs": [],
   "source": []
  }
 ],
 "metadata": {
  "colab": {
   "provenance": [],
   "toc_visible": true
  },
  "environment": {
   "kernel": "python3",
   "name": "tf2-cpu.2-16.m124",
   "type": "gcloud",
   "uri": "us-docker.pkg.dev/deeplearning-platform-release/gcr.io/tf2-cpu.2-16:m124"
  },
  "kernelspec": {
   "display_name": "Python 3 (Local)",
   "language": "python",
   "name": "python3"
  },
  "language_info": {
   "codemirror_mode": {
    "name": "ipython",
    "version": 3
   },
   "file_extension": ".py",
   "mimetype": "text/x-python",
   "name": "python",
   "nbconvert_exporter": "python",
   "pygments_lexer": "ipython3",
   "version": "3.10.14"
  }
 },
 "nbformat": 4,
 "nbformat_minor": 4
}
